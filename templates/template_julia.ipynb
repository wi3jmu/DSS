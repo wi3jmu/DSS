{
 "cells": [
  {
   "cell_type": "markdown",
   "metadata": {
    "slideshow": {
     "slide_type": "slide"
    }
   },
   "source": [
    "<div class='bar_title'></div>\n",
    "*Course Name*\n",
    "\n",
    "# Julia Template\n",
    "\n",
    "Prof. Christoph M. Flath<br>\n",
    "Chair of Information Systems and Management\n",
    "\n",
    "Winter Semester 19/20"
   ]
  },
  {
   "cell_type": "markdown",
   "metadata": {
    "slideshow": {
     "slide_type": "subslide"
    },
    "toc": true
   },
   "source": [
    "<h1>Table of Contents<span class=\"tocSkip\"></span></h1>\n",
    "<div class=\"toc\"><ul class=\"toc-item\"><li><span><a href=\"#Basic-Elements\" data-toc-modified-id=\"Basic-Elements-1\"><span class=\"toc-item-num\">1&nbsp;&nbsp;</span>Basic Elements</a></span><ul class=\"toc-item\"><li><span><a href=\"#Code\" data-toc-modified-id=\"Code-1.1\"><span class=\"toc-item-num\">1.1&nbsp;&nbsp;</span>Code</a></span></li><li><span><a href=\"#Tables\" data-toc-modified-id=\"Tables-1.2\"><span class=\"toc-item-num\">1.2&nbsp;&nbsp;</span>Tables</a></span></li><li><span><a href=\"#Figures\" data-toc-modified-id=\"Figures-1.3\"><span class=\"toc-item-num\">1.3&nbsp;&nbsp;</span>Figures</a></span></li><li><span><a href=\"#Formulas\" data-toc-modified-id=\"Formulas-1.4\"><span class=\"toc-item-num\">1.4&nbsp;&nbsp;</span>Formulas</a></span></li></ul></li></ul></div>"
   ]
  },
  {
   "cell_type": "markdown",
   "metadata": {
    "slideshow": {
     "slide_type": "slide"
    }
   },
   "source": [
    "## Basic Elements"
   ]
  },
  {
   "cell_type": "markdown",
   "metadata": {},
   "source": [
    "### Code"
   ]
  },
  {
   "cell_type": "code",
   "execution_count": null,
   "metadata": {
    "cell_style": "split"
   },
   "outputs": [],
   "source": [
    "import Pkg; Pkg.add(\"JuMP\")\n",
    "using JuMP"
   ]
  },
  {
   "cell_type": "code",
   "execution_count": null,
   "metadata": {
    "cell_style": "split"
   },
   "outputs": [],
   "source": [
    "m = Model()\n",
    "@variable(m, 0 <= x <= 2 )\n",
    "@variable(m, 0 <= y <= 30 )\n",
    "\n",
    "@objective(m, Min, x*x+ 2x*y + y*y )\n",
    "@constraint(m, x + y >= 1 )\n",
    "m"
   ]
  },
  {
   "cell_type": "markdown",
   "metadata": {
    "slideshow": {
     "slide_type": "subslide"
    }
   },
   "source": [
    "### Tables"
   ]
  },
  {
   "cell_type": "markdown",
   "metadata": {
    "cell_style": "split"
   },
   "source": [
    "Latex Style using the array environment\n",
    "\n",
    "\\begin{array}{l|rrrrl}\n",
    "\\hline\n",
    "                        & Components     \\\\ \\hline\n",
    "                        & 1          & 2     & 3     & 4     & ... \\\\ \\hline\n",
    "Water \\ displacement      & 0.95       & -0.09 & −0.12 & 0.22  & ... \\\\\n",
    "Length                  & 0.90       & 0.30  & −0.06 & −0.20 & ... \\\\\n",
    "Width                   & 0.97       & −0.12 & −0.03 & 0.03  & ... \\\\\n",
    "Engine \\ power            & 0.55       & 0.77  & −0.19 & −0.13 & ... \\\\\n",
    "Speed                   & −0.52      & 0.79  & −0.15 & 0.22  & ... \\\\\n",
    "Radius \\ of \\ action        & 0.39       & 0.31  & 0.86  & 0.03  & ... \\\\\n",
    "Crew \\ size               & 0.95       & 0.06  & −0.05 & 0.10  & ... \\\\ \\hline\n",
    "\\textbf{% of variance} & 64.88      & 19.22 & 10.43 & 2.22  & ... \\\\ \\hline\n",
    "\\end{array}"
   ]
  },
  {
   "cell_type": "markdown",
   "metadata": {
    "cell_style": "split",
    "slideshow": {
     "slide_type": "-"
    }
   },
   "source": [
    "Regular Markdown\n",
    "\n",
    "| Item                                      | Category       |\n",
    "|-------------------------------------------|----------------|\n",
    "| Egg McMuffin                              | Breakfast      |\n",
    "| McChicken                                 | Chicken & Fish |\n",
    "| Premium Southwest Salad (without Chicken) | Salads         |\n",
    "| Baked Apple Pie                           | Desserts       |"
   ]
  },
  {
   "cell_type": "markdown",
   "metadata": {
    "slideshow": {
     "slide_type": "subslide"
    }
   },
   "source": [
    "### Figures"
   ]
  },
  {
   "cell_type": "markdown",
   "metadata": {
    "cell_style": "split"
   },
   "source": [
    "Regular Markdown\n",
    "![](images/unilogo_l.png)"
   ]
  },
  {
   "cell_type": "markdown",
   "metadata": {
    "cell_style": "split",
    "slideshow": {
     "slide_type": "-"
    }
   },
   "source": [
    "Custom sizes and alignment\n",
    "\n",
    "<img align=\"left\" src=\"http://statistik-dresden.de/wp-content/uploads/2012/04/CRISP-DM_Process_Diagram1.png\" style=\"width:50%\">"
   ]
  },
  {
   "cell_type": "markdown",
   "metadata": {
    "slideshow": {
     "slide_type": "subslide"
    }
   },
   "source": [
    "### Formulas"
   ]
  },
  {
   "cell_type": "markdown",
   "metadata": {},
   "source": [
    "__k-Means Algorithm__\n",
    "\n",
    "Minimize the within-cluster sum of squares (i.e. variance)\n",
    "$$\\underset{\\mathbf{C}}{arg\\,min} = \\sum_{i=1}^{K}\\sum_{x\\in C_i}dist^2(m_i,x)$$"
   ]
  }
 ],
 "metadata": {
  "celltoolbar": "Slideshow",
  "kernelspec": {
   "display_name": "Julia 1.2.0",
   "language": "julia",
   "name": "julia-1.2"
  },
  "language_info": {
   "file_extension": ".jl",
   "mimetype": "application/julia",
   "name": "julia",
   "version": "1.2.0"
  },
  "rise": {
   "enable_chalkboard": false,
   "overlay": "<div class='background'></div><div class='header'>Course Name | Semester</br>Chair of XX<br>Prof. YY</div><div class='logo'><img src='images/unilogo.png'></div><div class='bar'></div>",
   "scroll": true,
   "slideNumber": "h.v"
  },
  "toc": {
   "base_numbering": 1,
   "nav_menu": {},
   "number_sections": true,
   "sideBar": true,
   "skip_h1_title": true,
   "title_cell": "Table of Contents",
   "title_sidebar": "Contents",
   "toc_cell": true,
   "toc_position": {},
   "toc_section_display": true,
   "toc_window_display": false
  }
 },
 "nbformat": 4,
 "nbformat_minor": 2
}
