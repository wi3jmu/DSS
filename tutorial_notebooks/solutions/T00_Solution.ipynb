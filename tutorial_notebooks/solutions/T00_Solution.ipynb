{
  "cells": [
    {
      "cell_type": "markdown",
      "metadata": {
        "id": "view-in-github",
        "colab_type": "text"
      },
      "source": [
        "<a href=\"https://colab.research.google.com/github/wi3jmu/DSS/blob/main/tutorial_notebooks/solutions/T00_Solution.ipynb\" target=\"_parent\"><img src=\"https://colab.research.google.com/assets/colab-badge.svg\" alt=\"Open In Colab\"/></a>"
      ]
    },
    {
      "cell_type": "markdown",
      "metadata": {
        "cell_style": "center",
        "id": "RxUj1SWAF128"
      },
      "source": [
        "<div class='bar_title'></div>\n",
        "\n",
        "*Decision Support Systems*\n",
        "\n",
        "# Solution\n",
        "\n"
      ]
    },
    {
      "cell_type": "code",
      "execution_count": 1,
      "metadata": {
        "colab": {
          "base_uri": "https://localhost:8080/"
        },
        "id": "hJbVZJllF12-",
        "outputId": "16059390-ef2a-4e68-e0eb-e18dbede75e2"
      },
      "outputs": [
        {
          "output_type": "stream",
          "name": "stdout",
          "text": [
            "Looking in indexes: https://pypi.org/simple, https://us-python.pkg.dev/colab-wheels/public/simple/\n",
            "Requirement already satisfied: pulp in /usr/local/lib/python3.7/dist-packages (2.6.0)\n"
          ]
        }
      ],
      "source": [
        "!pip install pulp\n",
        "from pulp import *"
      ]
    },
    {
      "cell_type": "code",
      "execution_count": 2,
      "metadata": {
        "cell_style": "center",
        "id": "BEpNIyx9F12_"
      },
      "outputs": [],
      "source": [
        "# Index sets\n",
        "products = ['plane', 'car']\n",
        "capacity = ['woodwork', 'painting']"
      ]
    },
    {
      "cell_type": "code",
      "source": [
        "# Parameters\n",
        "costs = {'woodwork': 1, \n",
        "         'painting': 3}\n",
        "\n",
        "prices = {'plane': 10,\n",
        "          'car': 6}\n",
        "\n",
        "portion = {'plane': {'woodwork': 1, 'painting': 2},\n",
        "           'car': {'woodwork': 2,'painting': 1}}\n",
        "\n",
        "max_products = {'plane': 40}\n",
        "\n",
        "max_capacity = {'woodwork': 100,\n",
        "                'painting': 85}"
      ],
      "metadata": {
        "id": "DR46rYaDGH3-"
      },
      "execution_count": 3,
      "outputs": []
    },
    {
      "cell_type": "code",
      "source": [
        "# Variables\n",
        "quantity = LpVariable.dicts(\"quantity\", products, lowBound=0, cat='Continuous')"
      ],
      "metadata": {
        "id": "LY04GzMlGiu7"
      },
      "execution_count": 4,
      "outputs": []
    },
    {
      "cell_type": "code",
      "source": [
        "#create problem\n",
        "m = LpProblem(\"another toy problem\", LpMaximize)"
      ],
      "metadata": {
        "id": "RMygzMFtHWiX",
        "colab": {
          "base_uri": "https://localhost:8080/"
        },
        "outputId": "0eecc64c-754e-4dfa-847b-a23259b0a401"
      },
      "execution_count": 5,
      "outputs": [
        {
          "output_type": "stream",
          "name": "stderr",
          "text": [
            "/usr/local/lib/python3.7/dist-packages/pulp/pulp.py:1352: UserWarning: Spaces are not permitted in the name. Converted to '_'\n",
            "  warnings.warn(\"Spaces are not permitted in the name. Converted to '_'\")\n"
          ]
        }
      ]
    },
    {
      "cell_type": "code",
      "source": [
        "# Objective \n",
        "m += lpSum([prices[p] * quantity[p] for p in products] #this is the revenue\n",
        "           +[-costs[i] * portion[p][i] * quantity[p] for i in capacity for p in products]) #these are the costs"
      ],
      "metadata": {
        "id": "P0rfE8jRGnbu"
      },
      "execution_count": 6,
      "outputs": []
    },
    {
      "cell_type": "code",
      "source": [
        "# Constraints\n",
        "for i in max_capacity:\n",
        "  m += lpSum(quantity[p]*portion[p][i] for p in products) <= max_capacity[i]\n",
        "\n",
        "\n",
        "for p in max_products.keys():\n",
        "    m += lpSum(quantity[p] ) <= max_products[p]"
      ],
      "metadata": {
        "id": "a86IrRyWGrVI"
      },
      "execution_count": 7,
      "outputs": []
    },
    {
      "cell_type": "code",
      "source": [
        "# Solve\n",
        "m.solve()\n",
        "LpStatus[m.status]"
      ],
      "metadata": {
        "colab": {
          "base_uri": "https://localhost:8080/",
          "height": 36
        },
        "id": "tI8Eiw6EHD9a",
        "outputId": "ee3d6c2e-360f-40b0-8d65-b8b477cc55ff"
      },
      "execution_count": 8,
      "outputs": [
        {
          "output_type": "execute_result",
          "data": {
            "text/plain": [
              "'Optimal'"
            ],
            "application/vnd.google.colaboratory.intrinsic+json": {
              "type": "string"
            }
          },
          "metadata": {},
          "execution_count": 8
        }
      ]
    },
    {
      "cell_type": "code",
      "source": [
        "for var in m.variables():\n",
        "    print (\"{} = {}\".format(var.name, var.varValue))"
      ],
      "metadata": {
        "id": "XQg7PFuyHhvs",
        "outputId": "55b5ca3b-00c2-40d9-9da7-34d8f1eff8f0",
        "colab": {
          "base_uri": "https://localhost:8080/"
        }
      },
      "execution_count": 9,
      "outputs": [
        {
          "output_type": "stream",
          "name": "stdout",
          "text": [
            "quantity_car = 5.0\n",
            "quantity_plane = 40.0\n"
          ]
        }
      ]
    },
    {
      "cell_type": "code",
      "source": [
        "print(value(m.objective))"
      ],
      "metadata": {
        "colab": {
          "base_uri": "https://localhost:8080/"
        },
        "id": "_AuQ1HNdHFeM",
        "outputId": "3656c4dd-df8b-4fbd-8e7a-6af01abb4bd0"
      },
      "execution_count": 10,
      "outputs": [
        {
          "output_type": "stream",
          "name": "stdout",
          "text": [
            "125.0\n"
          ]
        }
      ]
    },
    {
      "cell_type": "code",
      "source": [],
      "metadata": {
        "id": "gRLrG4ijHPfM"
      },
      "execution_count": 10,
      "outputs": []
    }
  ],
  "metadata": {
    "celltoolbar": "Slideshow",
    "kernelspec": {
      "display_name": "Python 3",
      "language": "python",
      "name": "python3"
    },
    "language_info": {
      "codemirror_mode": {
        "name": "ipython",
        "version": 3
      },
      "file_extension": ".py",
      "mimetype": "text/x-python",
      "name": "python",
      "nbconvert_exporter": "python",
      "pygments_lexer": "ipython3",
      "version": "3.8.3"
    },
    "rise": {
      "enable_chalkboard": false,
      "overlay": "<div class='background'></div><div class='header'>WS 19/20</br>DSS</div><div class='logo'><img src='images/unilogo.png'></div><div class='bar'></div>",
      "scroll": true,
      "slideNumber": "h.v"
    },
    "toc": {
      "base_numbering": 1,
      "nav_menu": {},
      "number_sections": true,
      "sideBar": true,
      "skip_h1_title": true,
      "title_cell": "Table of Contents",
      "title_sidebar": "Contents",
      "toc_cell": true,
      "toc_position": {},
      "toc_section_display": true,
      "toc_window_display": false
    },
    "colab": {
      "provenance": [],
      "include_colab_link": true
    }
  },
  "nbformat": 4,
  "nbformat_minor": 0
}