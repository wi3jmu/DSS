{
 "cells": [
  {
   "cell_type": "markdown",
   "metadata": {},
   "source": [
    "# Advanced Production Planning Problem"
   ]
  },
  {
   "cell_type": "code",
   "execution_count": 1,
   "metadata": {},
   "outputs": [],
   "source": [
    "!pip install pulp\n",
    "from pulp import *\n",
    "import pandas as pd"
   ]
  },
  {
   "cell_type": "code",
   "execution_count": 2,
   "metadata": {},
   "outputs": [],
   "source": [
    "# Creates a list of the products\n",
    "months = ['000','JAN', 'FEB', 'MAR', 'APR', 'MAY', 'JUN']\n",
    "\n",
    "# A dictionary of the unit cost per month\n",
    "cost = {'000': 0,\n",
    "        'JAN': 240, \n",
    "        'FEB': 250,\n",
    "        'MAR': 265, \n",
    "        'APR': 285,\n",
    "        'MAY': 280, \n",
    "        'JUN': 260}\n",
    "\n",
    "# A dictionary of the demand per month\n",
    "demand = {'000': 0,\n",
    "          'JAN': 1000, \n",
    "          'FEB': 4500,\n",
    "          'MAR': 6000, \n",
    "          'APR': 5500,\n",
    "          'MAY': 3500, \n",
    "          'JUN': 4000}\n",
    "\n",
    "# A dictionary of the min production per month\n",
    "minOut = {'000': 0,\n",
    "          'JAN': 2000, \n",
    "          'FEB': 1750,\n",
    "          'MAR': 2000, \n",
    "          'APR': 2250,\n",
    "          'MAY': 2000, \n",
    "          'JUN': 1750}\n",
    "\n",
    "# A dictionary of the max production per month\n",
    "maxOut = {'JAN': 4000, \n",
    "          'FEB': 3500,\n",
    "          'MAR': 4000, \n",
    "          'APR': 4500,\n",
    "          'MAY': 4000, \n",
    "          'JUN': 3500,\n",
    "          '000': 0}\n"
   ]
  },
  {
   "cell_type": "code",
   "execution_count": 3,
   "metadata": {},
   "outputs": [],
   "source": [
    "# Create the 'prob' variable to contain the problem data\n",
    "prob = LpProblem(\"Upton_Corporation_Production\", LpMinimize)\n",
    "\n",
    "# A dictionary of the output variables\n",
    "o = LpVariable.dicts(\"output\",months,0)\n",
    "\n",
    "# A dictionary of the storage variables\n",
    "# with safety stock and maximum warehoues capacity as bounds\n",
    "s = LpVariable.dicts(\"storage\",months,1500,6000)\n",
    "\n",
    "# Create objective function\n",
    "prob += lpSum([o[i]*cost[i] for i in months]) + lpSum([0.015*cost[months[i+1]]*0.5*(s[months[i+1]]+s[months[i]]) for i in range(6)]), \"Total Cost\"\n",
    "\n",
    "#Enforce values of init period\n",
    "prob += s[\"000\"] == 2750\n",
    "\n",
    "# Create constraints\n",
    "for month in months:\n",
    "    prob += o[month] >= minOut[month], \"minOut{}\".format(month)\n",
    "    prob += o[month] <= maxOut[month], \"maxOut{}\".format(month)\n",
    "\n",
    "for i in range(6):\n",
    "    prob += s[months[i]]+o[months[i+1]]-demand[months[i+1]]==s[months[i+1]]"
   ]
  },
  {
   "cell_type": "code",
   "execution_count": 4,
   "metadata": {},
   "outputs": [
    {
     "name": "stdout",
     "output_type": "stream",
     "text": [
      "Status = Optimal\n"
     ]
    }
   ],
   "source": [
    "# Optimize\n",
    "\n",
    "prob.solve()\n",
    "\n",
    "# Print the status of the solved LP\n",
    "print(\"Status = %s\" % LpStatus[prob.status])"
   ]
  },
  {
   "cell_type": "code",
   "execution_count": 5,
   "metadata": {},
   "outputs": [
    {
     "name": "stdout",
     "output_type": "stream",
     "text": [
      "            s       o\n",
      "month                \n",
      "000    2750.0     0.0\n",
      "JAN    5750.0  4000.0\n",
      "FEB    4750.0  3500.0\n",
      "MAR    2750.0  4000.0\n",
      "APR    1500.0  4250.0\n",
      "MAY    2000.0  4000.0\n",
      "JUN    1500.0  3500.0\n",
      "Objective = 6209403.1\n"
     ]
    }
   ],
   "source": [
    "# Print the value of the variables at the optimum\n",
    "output = pd.DataFrame([[i, s[i].varValue, o[i].varValue] for i in months],\n",
    "            columns = ['month', 's', 'o']).set_index('month')\n",
    "print(output)\n",
    "\n",
    "# Print the value of the objective\n",
    "print(\"Objective = %.1f\" % value(prob.objective))"
   ]
  },
  {
   "cell_type": "code",
   "execution_count": null,
   "metadata": {},
   "outputs": [],
   "source": []
  }
 ],
 "metadata": {
  "kernelspec": {
   "display_name": "Python 3",
   "language": "python",
   "name": "python3"
  },
  "language_info": {
   "codemirror_mode": {
    "name": "ipython",
    "version": 3
   },
   "file_extension": ".py",
   "mimetype": "text/x-python",
   "name": "python",
   "nbconvert_exporter": "python",
   "pygments_lexer": "ipython3",
   "version": "3.8.3"
  },
  "toc": {
   "base_numbering": 1,
   "nav_menu": {},
   "number_sections": true,
   "sideBar": true,
   "skip_h1_title": false,
   "title_cell": "Table of Contents",
   "title_sidebar": "Contents",
   "toc_cell": false,
   "toc_position": {},
   "toc_section_display": true,
   "toc_window_display": false
  }
 },
 "nbformat": 4,
 "nbformat_minor": 4
}
