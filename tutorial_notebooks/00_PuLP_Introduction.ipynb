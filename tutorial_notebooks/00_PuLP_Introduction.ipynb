{
 "cells": [
  {
   "cell_type": "markdown",
   "metadata": {
    "cell_style": "center",
    "slideshow": {
     "slide_type": "slide"
    }
   },
   "source": [
    "<div class='bar_title'></div>\n",
    "\n",
    "*Decision Support Systems*\n",
    "\n",
    "# Linear Programming\n",
    "\n",
    "Toni Greif<br>\n",
    "Chair of Information Systems and Business Analytics"
   ]
  },
  {
   "cell_type": "markdown",
   "metadata": {
    "slideshow": {
     "slide_type": "subslide"
    }
   },
   "source": [
    "Please, make sure you are signed in with your Google account and you created a copy of the notebook (preferentially in Google Drive). Otherwise, you can not save your edited notebooks."
   ]
  },
  {
   "cell_type": "markdown",
   "metadata": {
    "slideshow": {
     "slide_type": "subslide"
    },
    "toc": true
   },
   "source": [
    "<h1>Table of Contents<span class=\"tocSkip\"></span></h1>\n",
    "<div class=\"toc\"><ul class=\"toc-item\"><li><span><a href=\"#Linear-Programming-with-Python-and-PuLP\" data-toc-modified-id=\"Linear-Programming-with-Python-and-PuLP-1\"><span class=\"toc-item-num\">1&nbsp;&nbsp;</span>Linear Programming with Python and PuLP</a></span><ul class=\"toc-item\"><li><span><a href=\"#Python-syntax\" data-toc-modified-id=\"Python-syntax-1.1\"><span class=\"toc-item-num\">1.1&nbsp;&nbsp;</span>Python syntax</a></span><ul class=\"toc-item\"><li><span><a href=\"#Indentation\" data-toc-modified-id=\"Indentation-1.1.1\"><span class=\"toc-item-num\">1.1.1&nbsp;&nbsp;</span>Indentation</a></span></li><li><span><a href=\"#Variables\" data-toc-modified-id=\"Variables-1.1.2\"><span class=\"toc-item-num\">1.1.2&nbsp;&nbsp;</span>Variables</a></span></li><li><span><a href=\"#Comments\" data-toc-modified-id=\"Comments-1.1.3\"><span class=\"toc-item-num\">1.1.3&nbsp;&nbsp;</span>Comments</a></span></li><li><span><a href=\"#Lists\" data-toc-modified-id=\"Lists-1.1.4\"><span class=\"toc-item-num\">1.1.4&nbsp;&nbsp;</span>Lists</a></span></li><li><span><a href=\"#Dictionaries\" data-toc-modified-id=\"Dictionaries-1.1.5\"><span class=\"toc-item-num\">1.1.5&nbsp;&nbsp;</span>Dictionaries</a></span></li></ul></li><li><span><a href=\"#PuLP-syntax\" data-toc-modified-id=\"PuLP-syntax-1.2\"><span class=\"toc-item-num\">1.2&nbsp;&nbsp;</span>PuLP syntax</a></span></li></ul></li></ul></div>"
   ]
  },
  {
   "cell_type": "markdown",
   "metadata": {
    "slideshow": {
     "slide_type": "slide"
    }
   },
   "source": [
    "Don't forget, each session the PuLP package must be installed (not necessary if you don't use the Colab enviroment) and imported."
   ]
  },
  {
   "cell_type": "code",
   "execution_count": 1,
   "metadata": {},
   "outputs": [
    {
     "name": "stdout",
     "output_type": "stream",
     "text": [
      "Collecting pulp\n",
      "  Downloading PuLP-2.3.1-py3-none-any.whl (40.6 MB)\n",
      "\u001b[K     |████████████████████████████████| 40.6 MB 25.7 MB/s eta 0:00:01\n",
      "\u001b[?25hCollecting amply>=0.1.2\n",
      "  Downloading amply-0.1.4-py3-none-any.whl (16 kB)\n",
      "Requirement already satisfied: pyparsing in /usr/local/anaconda3/lib/python3.8/site-packages (from amply>=0.1.2->pulp) (2.4.7)\n",
      "Requirement already satisfied: docutils>=0.3 in /usr/local/anaconda3/lib/python3.8/site-packages (from amply>=0.1.2->pulp) (0.16)\n",
      "Installing collected packages: amply, pulp\n",
      "Successfully installed amply-0.1.4 pulp-2.3.1\n"
     ]
    }
   ],
   "source": [
    "!pip install pulp\n",
    "from pulp import *\n",
    "import pandas as pd"
   ]
  },
  {
   "cell_type": "markdown",
   "metadata": {
    "slideshow": {
     "slide_type": "slide"
    }
   },
   "source": [
    "## Linear Programming with Python and PuLP"
   ]
  },
  {
   "cell_type": "markdown",
   "metadata": {},
   "source": [
    "Linear Programming involves maximising or minimising a linear objective function, subject to a set of linear inequality or equality constraints.\n",
    "\n",
    "Based on our example from the last tutorial, we will explain the Python and PuLP syntax in more detail."
   ]
  },
  {
   "cell_type": "markdown",
   "metadata": {
    "slideshow": {
     "slide_type": "slide"
    }
   },
   "source": [
    "### Python syntax"
   ]
  },
  {
   "cell_type": "markdown",
   "metadata": {
    "cell_style": "center"
   },
   "source": [
    "#### Indentation\n",
    "\n",
    "Indentation refers to the spaces at the beginning of a code line. In Python is very important. Python uses indentation to indicate a block of code.\n",
    "\n",
    "Example:"
   ]
  },
  {
   "cell_type": "code",
   "execution_count": 2,
   "metadata": {
    "cell_style": "center"
   },
   "outputs": [
    {
     "name": "stdout",
     "output_type": "stream",
     "text": [
      "Five is greater than two!\n"
     ]
    }
   ],
   "source": [
    "if 5 > 2:\n",
    "    print(\"Five is greater than two!\")"
   ]
  },
  {
   "cell_type": "markdown",
   "metadata": {
    "cell_style": "center",
    "slideshow": {
     "slide_type": "subslide"
    }
   },
   "source": [
    "#### Variables\n",
    "\n",
    "In Python variables are created the moment you assign a value to it.\n",
    "\n",
    "Example:"
   ]
  },
  {
   "cell_type": "code",
   "execution_count": 3,
   "metadata": {
    "cell_style": "split"
   },
   "outputs": [
    {
     "name": "stdout",
     "output_type": "stream",
     "text": [
      "5\n"
     ]
    }
   ],
   "source": [
    "x = 5\n",
    "print(x)"
   ]
  },
  {
   "cell_type": "code",
   "execution_count": 4,
   "metadata": {
    "cell_style": "split"
   },
   "outputs": [
    {
     "name": "stdout",
     "output_type": "stream",
     "text": [
      "Hello, World!\n"
     ]
    }
   ],
   "source": [
    "y = \"Hello, World!\"\n",
    "print(y)"
   ]
  },
  {
   "cell_type": "markdown",
   "metadata": {
    "slideshow": {
     "slide_type": "subslide"
    }
   },
   "source": [
    "#### Comments\n",
    "In-code comments start with a #, and Python will render the rest of the line as a comment:\n",
    "\n",
    "Example:"
   ]
  },
  {
   "cell_type": "code",
   "execution_count": 5,
   "metadata": {},
   "outputs": [
    {
     "name": "stdout",
     "output_type": "stream",
     "text": [
      "Hello, World!\n"
     ]
    }
   ],
   "source": [
    "#This is a comment.\n",
    "print(\"Hello, World!\")"
   ]
  },
  {
   "cell_type": "markdown",
   "metadata": {
    "slideshow": {
     "slide_type": "subslide"
    }
   },
   "source": [
    "#### Lists"
   ]
  },
  {
   "cell_type": "markdown",
   "metadata": {
    "cell_style": "center",
    "slideshow": {
     "slide_type": "-"
    }
   },
   "source": [
    "Lists are containers that hold a number of other objects, in a given order.\n",
    "To create a list, put a number of expressions in square brackets:\n",
    "\n",
    "``L = [expression, ...]``\n",
    "    \n",
    "The expressions can be anything; you can put all kinds of objects in lists, including other lists.\n",
    "\n",
    "Example:"
   ]
  },
  {
   "cell_type": "code",
   "execution_count": 6,
   "metadata": {
    "cell_style": "center"
   },
   "outputs": [
    {
     "name": "stdout",
     "output_type": "stream",
     "text": [
      "['red', 'blue', 0, 1]\n"
     ]
    }
   ],
   "source": [
    "firstList = ['red', 'blue', 0, 1]\n",
    "print(firstList)"
   ]
  },
  {
   "cell_type": "markdown",
   "metadata": {
    "cell_style": "center",
    "slideshow": {
     "slide_type": "subslide"
    }
   },
   "source": [
    "The for-in statement makes it easy to loop over the items in a list:"
   ]
  },
  {
   "cell_type": "code",
   "execution_count": 7,
   "metadata": {
    "cell_style": "center"
   },
   "outputs": [
    {
     "name": "stdout",
     "output_type": "stream",
     "text": [
      "red\n",
      "blue\n",
      "0\n",
      "1\n"
     ]
    }
   ],
   "source": [
    "for item in firstList:\n",
    "    print(item)"
   ]
  },
  {
   "cell_type": "markdown",
   "metadata": {
    "slideshow": {
     "slide_type": "-"
    }
   },
   "source": [
    "**Accessing Lists**\n",
    "\n",
    "``len(L)`` returns the number of items in the list, ``L[i]`` returns the item at index i (the first item has index 0), and ``L[i:j]`` returns a new list, containing the objects between i and j."
   ]
  },
  {
   "cell_type": "markdown",
   "metadata": {
    "slideshow": {
     "slide_type": "subslide"
    }
   },
   "source": [
    "**List comprehensions**\n",
    "\n",
    "Python also supports computed lists, called “list comprehensions”. In its simplest form, a list comprehension has the following syntax:\n",
    "\n",
    "``L = [expression(variable) for variable in sequence]``\n",
    "\n",
    "where the expression is evaluated once, for every item in the sequence.\n",
    "\n",
    "Example:"
   ]
  },
  {
   "cell_type": "code",
   "execution_count": 8,
   "metadata": {},
   "outputs": [
    {
     "name": "stdout",
     "output_type": "stream",
     "text": [
      "[0, 1, 4, 9, 16, 25, 36, 49, 64, 81]\n"
     ]
    }
   ],
   "source": [
    "secondList = [variable**2 for variable in range(10)]\n",
    "print(secondList)"
   ]
  },
  {
   "cell_type": "markdown",
   "metadata": {
    "slideshow": {
     "slide_type": "subslide"
    }
   },
   "source": [
    "#### Dictionaries"
   ]
  },
  {
   "cell_type": "markdown",
   "metadata": {},
   "source": [
    "Dictionaries written with curly brackets are collections which are unordered, changeable and indexed. "
   ]
  },
  {
   "cell_type": "code",
   "execution_count": 9,
   "metadata": {},
   "outputs": [
    {
     "name": "stdout",
     "output_type": "stream",
     "text": [
      "{'brand': 'Ford', 'model': 'Mustang', 'year': 1964}\n"
     ]
    }
   ],
   "source": [
    "thisdict = {\"brand\": \"Ford\",\n",
    "            \"model\": \"Mustang\",\n",
    "            \"year\": 1964\n",
    "           }\n",
    "print(thisdict)"
   ]
  },
  {
   "cell_type": "markdown",
   "metadata": {},
   "source": [
    "You can access the items of a dictionary by referring to its key name, inside square brackets:"
   ]
  },
  {
   "cell_type": "code",
   "execution_count": 10,
   "metadata": {},
   "outputs": [
    {
     "name": "stdout",
     "output_type": "stream",
     "text": [
      "Mustang\n"
     ]
    }
   ],
   "source": [
    "x = thisdict[\"model\"]\n",
    "print(x)"
   ]
  },
  {
   "cell_type": "markdown",
   "metadata": {
    "slideshow": {
     "slide_type": "subslide"
    }
   },
   "source": [
    "A dictionary can also contain many dictionaries, this is called nested dictionaries."
   ]
  },
  {
   "cell_type": "code",
   "execution_count": 11,
   "metadata": {},
   "outputs": [
    {
     "name": "stdout",
     "output_type": "stream",
     "text": [
      "{'Milk': {'A': 1, 'B': 2}, 'Choco': {'A': 3, 'B': 2}}\n"
     ]
    }
   ],
   "source": [
    "portion = {'Milk': {'A': 1, 'B': 2},\n",
    "           'Choco': {'A': 3,'B': 2}\n",
    "          }\n",
    "print(portion)"
   ]
  },
  {
   "cell_type": "markdown",
   "metadata": {
    "slideshow": {
     "slide_type": "slide"
    }
   },
   "source": [
    "### PuLP syntax"
   ]
  },
  {
   "cell_type": "markdown",
   "metadata": {
    "cell_style": "split"
   },
   "source": [
    "Revenue:\n",
    "$$9*x_A + 14*x_B$$\n",
    "Costs for Milk:\n",
    "$$0.1*1*x_A + 0.1*3*x_B$$\n",
    "Costs for Choco:\n",
    "$$0.3*3*x_A + 0.3*2*x_B $$"
   ]
  },
  {
   "cell_type": "markdown",
   "metadata": {
    "cell_style": "split"
   },
   "source": [
    "Maximal Amount of Milk:\n",
    "    $$1*x_A + 2*x_B$$\n",
    "Maximal Amount of Choco:\n",
    "    $$3*x_A + 2*x_B$$"
   ]
  },
  {
   "cell_type": "markdown",
   "metadata": {},
   "source": [
    "We want to maximize profit, which is made up of revenue minus costs. In the following, the problem is presented in general terms for any number of products and ingredients."
   ]
  },
  {
   "cell_type": "markdown",
   "metadata": {
    "cell_style": "center"
   },
   "source": [
    "$$\\max \\sum_{p\\ \\in\\ products} prices_p * quantity_p - \\sum_{i\\ \\in\\ ingredients}\\sum_{p\\ \\in\\ products}\n",
    "costs_i * portion_{i,p} * quantity_p $$\n",
    "subject to:\n",
    "$$\\sum_{p\\ \\in\\ products} portion_{i,p} * quantity_p\\leq max\\_ingredients_i\\quad \\forall i\\ \\in\\ ingredients$$\n",
    "$$quantity_p \\geq 0\\quad  \\forall p\\in\\ products$$\n",
    "\n"
   ]
  },
  {
   "cell_type": "markdown",
   "metadata": {
    "slideshow": {
     "slide_type": "subslide"
    }
   },
   "source": [
    "Step 1: Create the Linear programming problem ``LpProblem()`` as maximization ``LpMaximize``."
   ]
  },
  {
   "cell_type": "code",
   "execution_count": 12,
   "metadata": {},
   "outputs": [
    {
     "name": "stderr",
     "output_type": "stream",
     "text": [
      "/usr/local/anaconda3/lib/python3.8/site-packages/pulp/pulp.py:1198: UserWarning: Spaces are not permitted in the name. Converted to '_'\n",
      "  warnings.warn(\"Spaces are not permitted in the name. Converted to '_'\")\n"
     ]
    }
   ],
   "source": [
    "m = LpProblem(\"chocolate maufacturing\", LpMaximize)"
   ]
  },
  {
   "cell_type": "markdown",
   "metadata": {
    "slideshow": {
     "slide_type": "-"
    }
   },
   "source": [
    "Step 2: Set the lists for the index sets (here $products\\ p$ and $ingredients\\ i$) and the dictionaries for the parameters (here $prices, costs, portion, max\\_ingredients$)"
   ]
  },
  {
   "cell_type": "code",
   "execution_count": 13,
   "metadata": {
    "cell_style": "split"
   },
   "outputs": [],
   "source": [
    "# Index sets\n",
    "products = ['A', 'B']\n",
    "ingredients = ['Milk', 'Choco']"
   ]
  },
  {
   "cell_type": "code",
   "execution_count": 14,
   "metadata": {
    "cell_style": "split"
   },
   "outputs": [],
   "source": [
    "# Parameters\n",
    "costs = {'Milk': 0.1, \n",
    "         'Choco': 0.3}\n",
    "\n",
    "prices = {'A': 9,\n",
    "          'B': 14}\n",
    "\n",
    "portion = {'Milk': {'A': 1, 'B': 2},\n",
    "           'Choco': {'A': 3,'B': 2}}\n",
    "\n",
    "max_ingredients = {'Milk': 20, \n",
    "                   'Choco': 40}"
   ]
  },
  {
   "cell_type": "markdown",
   "metadata": {
    "slideshow": {
     "slide_type": "-"
    }
   },
   "source": [
    "Step 3: Create the continuous decision variables ``LpVariable.dicts()`` for the corresponding indexes (here $products$). Set  ``lowBound=0`` to include the second part of the constraints here."
   ]
  },
  {
   "cell_type": "code",
   "execution_count": 15,
   "metadata": {},
   "outputs": [],
   "source": [
    "# Variables\n",
    "quantity = LpVariable.dicts(\"quantity\", products, lowBound=0, cat='Continuous')"
   ]
  },
  {
   "cell_type": "markdown",
   "metadata": {
    "slideshow": {
     "slide_type": "subslide"
    }
   },
   "source": [
    "Sometimes you don't need lists for the indexes and you can directly use the keys of the dictionaries."
   ]
  },
  {
   "cell_type": "code",
   "execution_count": 16,
   "metadata": {
    "cell_style": "split"
   },
   "outputs": [
    {
     "name": "stdout",
     "output_type": "stream",
     "text": [
      "A\n",
      "B\n"
     ]
    }
   ],
   "source": [
    "for p in products:\n",
    "    print(p)"
   ]
  },
  {
   "cell_type": "code",
   "execution_count": 17,
   "metadata": {
    "cell_style": "split"
   },
   "outputs": [
    {
     "name": "stdout",
     "output_type": "stream",
     "text": [
      "A\n",
      "B\n"
     ]
    }
   ],
   "source": [
    "for p in prices.keys():\n",
    "    print(p)"
   ]
  },
  {
   "cell_type": "markdown",
   "metadata": {},
   "source": [
    "Step 4: Add the objective ``lpSum()`` to your model ``m``. Note that two lists in python can only be added ``list1 + list2`` and not subtracted, so we have to add the minus sign to the costs."
   ]
  },
  {
   "cell_type": "code",
   "execution_count": 18,
   "metadata": {},
   "outputs": [],
   "source": [
    "# Objective \n",
    "m += lpSum([prices[p] * quantity[p] for p in products] #this is the revenue\n",
    "           +[-costs[i] * portion[i][p] * quantity[p] for i in ingredients for p in products]) #these are the costs"
   ]
  },
  {
   "cell_type": "markdown",
   "metadata": {},
   "source": [
    "Summations $\\sum_{item\\ \\in\\ list}x_p$ have become calls to\n",
    "``\n",
    "lpSum([x[item] for item in list]).\n",
    "``"
   ]
  },
  {
   "cell_type": "markdown",
   "metadata": {},
   "source": [
    "Step 5: Set the constraints (note, we already respect the second part of the constraints in our variables)."
   ]
  },
  {
   "cell_type": "code",
   "execution_count": 19,
   "metadata": {},
   "outputs": [],
   "source": [
    "# Constraints\n",
    "for i in ingredients:\n",
    "    m += lpSum(portion[i][p] * quantity[p] for p in products) <= max_ingredients[i]"
   ]
  },
  {
   "cell_type": "markdown",
   "metadata": {},
   "source": [
    "The quantifiers (here $\\forall i \\in ingredients$) become `` for...in loops`` and summations have become calls to ``lpSum()``."
   ]
  },
  {
   "cell_type": "markdown",
   "metadata": {
    "slideshow": {
     "slide_type": "subslide"
    }
   },
   "source": [
    "As you can see, the impementiation is quite similar to the mathematical notation. "
   ]
  },
  {
   "cell_type": "markdown",
   "metadata": {
    "cell_style": "center",
    "slideshow": {
     "slide_type": "-"
    }
   },
   "source": [
    "$$\\max \\sum_{p\\ \\in\\ products} prices_p * quantity_p - \\sum_{i\\ \\in\\ ingredients}\\sum_{p\\ \\in\\ products}\n",
    "costs_i * portion_{i,p} * quantity_p $$\n",
    "subject to:\n",
    "$$\\sum_{p\\ \\in\\ products} portion_{i,p} * quantity_p\\leq max\\_ingredients_i\\quad \\forall i\\in ingredients$$\n",
    "$$quantity_p \\geq 0\\quad  \\forall p\\in products$$\n",
    "\n"
   ]
  },
  {
   "cell_type": "code",
   "execution_count": 20,
   "metadata": {
    "slideshow": {
     "slide_type": "-"
    }
   },
   "outputs": [
    {
     "data": {
      "text/plain": [
       "chocolate_maufacturing:\n",
       "MAXIMIZE\n",
       "8.0*quantity_A + 13.200000000000001*quantity_B + 0.0\n",
       "SUBJECT TO\n",
       "_C1: quantity_A + 2 quantity_B <= 20\n",
       "\n",
       "_C2: 3 quantity_A + 2 quantity_B <= 40\n",
       "\n",
       "VARIABLES\n",
       "quantity_A Continuous\n",
       "quantity_B Continuous"
      ]
     },
     "execution_count": 20,
     "metadata": {},
     "output_type": "execute_result"
    }
   ],
   "source": [
    "m"
   ]
  },
  {
   "cell_type": "markdown",
   "metadata": {
    "slideshow": {
     "slide_type": "subslide"
    }
   },
   "source": [
    "Step 6: Solve the model ``m.solve()`` and check the optimality ``LpStatus[m.status]``."
   ]
  },
  {
   "cell_type": "code",
   "execution_count": 21,
   "metadata": {},
   "outputs": [
    {
     "data": {
      "text/plain": [
       "'Optimal'"
      ]
     },
     "execution_count": 21,
     "metadata": {},
     "output_type": "execute_result"
    }
   ],
   "source": [
    "# Solve\n",
    "m.solve()\n",
    "LpStatus[m.status]"
   ]
  },
  {
   "cell_type": "markdown",
   "metadata": {
    "slideshow": {
     "slide_type": "subslide"
    }
   },
   "source": [
    "Step 7: Print the solution. ``m.variables()`` is the variable list of our model ``m``. With ``.name`` we get their variable names and with ``.varValue`` the values."
   ]
  },
  {
   "cell_type": "code",
   "execution_count": 22,
   "metadata": {},
   "outputs": [
    {
     "name": "stdout",
     "output_type": "stream",
     "text": [
      "quantity_A = 10.0\n",
      "quantity_B = 5.0\n"
     ]
    }
   ],
   "source": [
    "for var in m.variables():\n",
    "    print (\"{} = {}\".format(var.name, var.varValue))"
   ]
  },
  {
   "cell_type": "markdown",
   "metadata": {},
   "source": [
    "``.value`` evaluates the objective function for the solution."
   ]
  },
  {
   "cell_type": "code",
   "execution_count": 23,
   "metadata": {},
   "outputs": [
    {
     "name": "stdout",
     "output_type": "stream",
     "text": [
      "146.0\n"
     ]
    }
   ],
   "source": [
    "print (value(m.objective))"
   ]
  }
 ],
 "metadata": {
  "celltoolbar": "Slideshow",
  "kernelspec": {
   "display_name": "Python 3",
   "language": "python",
   "name": "python3"
  },
  "language_info": {
   "codemirror_mode": {
    "name": "ipython",
    "version": 3
   },
   "file_extension": ".py",
   "mimetype": "text/x-python",
   "name": "python",
   "nbconvert_exporter": "python",
   "pygments_lexer": "ipython3",
   "version": "3.8.3"
  },
  "rise": {
   "enable_chalkboard": false,
   "overlay": "<div class='background'></div><div class='header'>WS 19/20</br>DSS</div><div class='logo'><img src='images/unilogo.png'></div><div class='bar'></div>",
   "scroll": true,
   "slideNumber": "h.v"
  },
  "toc": {
   "base_numbering": 1,
   "nav_menu": {},
   "number_sections": true,
   "sideBar": true,
   "skip_h1_title": true,
   "title_cell": "Table of Contents",
   "title_sidebar": "Contents",
   "toc_cell": true,
   "toc_position": {},
   "toc_section_display": true,
   "toc_window_display": false
  }
 },
 "nbformat": 4,
 "nbformat_minor": 4
}
