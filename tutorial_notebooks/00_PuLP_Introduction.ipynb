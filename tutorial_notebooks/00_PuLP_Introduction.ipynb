{
  "cells": [
    {
      "cell_type": "markdown",
      "metadata": {
        "id": "view-in-github",
        "colab_type": "text"
      },
      "source": [
        "<a href=\"https://colab.research.google.com/github/wi3jmu/DSS/blob/main/tutorial_notebooks/00_PuLP_Introduction.ipynb\" target=\"_parent\"><img src=\"https://colab.research.google.com/assets/colab-badge.svg\" alt=\"Open In Colab\"/></a>"
      ]
    },
    {
      "cell_type": "markdown",
      "metadata": {
        "cell_style": "center",
        "id": "7Y8ysy3386-T"
      },
      "source": [
        "<div class='bar_title'></div>\n",
        "\n",
        "*Decision Support Systems*\n",
        "\n",
        "# Linear Programming\n",
        "\n",
        "Toni Greif, Nico Elbert<br>\n",
        "Chair of Information Systems and Business Analytics"
      ]
    },
    {
      "cell_type": "markdown",
      "metadata": {
        "id": "gGZj0BaO86-V"
      },
      "source": [
        "Please, make sure you are signed in with your Google account and you created a copy of the notebook (preferentially in Google Drive). Otherwise, you can not save your edited notebooks."
      ]
    },
    {
      "cell_type": "markdown",
      "metadata": {
        "toc": true,
        "id": "L9t1rVSC86-V"
      },
      "source": [
        "<h1>Table of Contents<span class=\"tocSkip\"></span></h1>\n",
        "<div class=\"toc\"><ul class=\"toc-item\"><li><span><a href=\"#Linear-Programming-with-Python-and-PuLP\" data-toc-modified-id=\"Linear-Programming-with-Python-and-PuLP-1\"><span class=\"toc-item-num\">1&nbsp;&nbsp;</span>Linear Programming with Python and PuLP</a></span><ul class=\"toc-item\"><li><span><a href=\"#Python-syntax\" data-toc-modified-id=\"Python-syntax-1.1\"><span class=\"toc-item-num\">1.1&nbsp;&nbsp;</span>Python syntax</a></span><ul class=\"toc-item\"><li><span><a href=\"#Indentation\" data-toc-modified-id=\"Indentation-1.1.1\"><span class=\"toc-item-num\">1.1.1&nbsp;&nbsp;</span>Indentation</a></span></li><li><span><a href=\"#Variables\" data-toc-modified-id=\"Variables-1.1.2\"><span class=\"toc-item-num\">1.1.2&nbsp;&nbsp;</span>Variables</a></span></li><li><span><a href=\"#Comments\" data-toc-modified-id=\"Comments-1.1.3\"><span class=\"toc-item-num\">1.1.3&nbsp;&nbsp;</span>Comments</a></span></li><li><span><a href=\"#Lists\" data-toc-modified-id=\"Lists-1.1.4\"><span class=\"toc-item-num\">1.1.4&nbsp;&nbsp;</span>Lists</a></span></li><li><span><a href=\"#Dictionaries\" data-toc-modified-id=\"Dictionaries-1.1.5\"><span class=\"toc-item-num\">1.1.5&nbsp;&nbsp;</span>Dictionaries</a></span></li></ul></li><li><span><a href=\"#PuLP-syntax\" data-toc-modified-id=\"PuLP-syntax-1.2\"><span class=\"toc-item-num\">1.2&nbsp;&nbsp;</span>PuLP syntax</a></span></li></ul></li></ul></div>"
      ]
    },
    {
      "cell_type": "markdown",
      "metadata": {
        "id": "qc-Yb-P286-W"
      },
      "source": [
        "Don't forget, each session the PuLP package must be installed (not necessary if you don't use the Colab enviroment) and imported."
      ]
    },
    {
      "cell_type": "code",
      "execution_count": 1,
      "metadata": {
        "id": "wtQh8fx986-W",
        "outputId": "c931a911-aafc-4d18-a27b-96dc153277cf",
        "colab": {
          "base_uri": "https://localhost:8080/"
        }
      },
      "outputs": [
        {
          "output_type": "stream",
          "name": "stdout",
          "text": [
            "Looking in indexes: https://pypi.org/simple, https://us-python.pkg.dev/colab-wheels/public/simple/\n",
            "Collecting pulp\n",
            "  Downloading PuLP-2.6.0-py3-none-any.whl (14.2 MB)\n",
            "\u001b[K     |████████████████████████████████| 14.2 MB 5.1 MB/s \n",
            "\u001b[?25hInstalling collected packages: pulp\n",
            "Successfully installed pulp-2.6.0\n"
          ]
        }
      ],
      "source": [
        "!pip install pulp\n",
        "from pulp import *\n",
        "import pandas as pd"
      ]
    },
    {
      "cell_type": "markdown",
      "metadata": {
        "id": "R4SdQejc86-X"
      },
      "source": [
        "## Linear Programming with Python and PuLP"
      ]
    },
    {
      "cell_type": "markdown",
      "metadata": {
        "id": "QTYwfAQp86-X"
      },
      "source": [
        "Linear Programming involves maximising or minimising a linear objective function, subject to a set of linear inequality or equality constraints.\n",
        "\n",
        "Based on our example from the last tutorial, we will explain the Python and PuLP syntax in more detail."
      ]
    },
    {
      "cell_type": "markdown",
      "metadata": {
        "id": "jx-zC2Yb86-Y"
      },
      "source": [
        "### Python syntax"
      ]
    },
    {
      "cell_type": "markdown",
      "metadata": {
        "cell_style": "center",
        "id": "_dst70Sm86-Y"
      },
      "source": [
        "#### Indentation\n",
        "\n",
        "Indentation refers to the spaces at the beginning of a code line. In Python is very important. Python uses indentation to indicate a block of code.\n",
        "\n",
        "Example:"
      ]
    },
    {
      "cell_type": "code",
      "execution_count": 2,
      "metadata": {
        "cell_style": "center",
        "id": "tcnM_jXD86-Y",
        "outputId": "6879d74f-5ae6-46d9-a44f-0cc0ae8e6c14",
        "colab": {
          "base_uri": "https://localhost:8080/"
        }
      },
      "outputs": [
        {
          "output_type": "stream",
          "name": "stdout",
          "text": [
            "Five is greater than two!\n"
          ]
        }
      ],
      "source": [
        "if 5 > 2:\n",
        "    print(\"Five is greater than two!\")"
      ]
    },
    {
      "cell_type": "markdown",
      "metadata": {
        "cell_style": "center",
        "id": "1oiYOKr686-Z"
      },
      "source": [
        "#### Variables\n",
        "\n",
        "In Python variables are created the moment you assign a value to it.\n",
        "\n",
        "Example:"
      ]
    },
    {
      "cell_type": "code",
      "execution_count": 3,
      "metadata": {
        "cell_style": "split",
        "id": "n1SvNq1W86-Z",
        "outputId": "2e6af38b-b19c-4de3-9d97-9082c58c0926",
        "colab": {
          "base_uri": "https://localhost:8080/"
        }
      },
      "outputs": [
        {
          "output_type": "stream",
          "name": "stdout",
          "text": [
            "5\n"
          ]
        }
      ],
      "source": [
        "x = 5\n",
        "print(x)"
      ]
    },
    {
      "cell_type": "code",
      "execution_count": 4,
      "metadata": {
        "cell_style": "split",
        "id": "WeoMArqe86-Z",
        "outputId": "6a01d7a3-2b87-4c07-cfcf-411d7b123792",
        "colab": {
          "base_uri": "https://localhost:8080/"
        }
      },
      "outputs": [
        {
          "output_type": "stream",
          "name": "stdout",
          "text": [
            "Hello, World!\n"
          ]
        }
      ],
      "source": [
        "y = \"Hello, World!\"\n",
        "print(y)"
      ]
    },
    {
      "cell_type": "markdown",
      "metadata": {
        "id": "hcOFFY__86-Z"
      },
      "source": [
        "#### Comments\n",
        "In-code comments start with a #, and Python will render the rest of the line as a comment:\n",
        "\n",
        "Example:"
      ]
    },
    {
      "cell_type": "code",
      "execution_count": 5,
      "metadata": {
        "id": "oAXs7DQC86-Z",
        "outputId": "7a9ca9a0-2361-4ad5-83fa-d095b8904c19",
        "colab": {
          "base_uri": "https://localhost:8080/"
        }
      },
      "outputs": [
        {
          "output_type": "stream",
          "name": "stdout",
          "text": [
            "Hello, World!\n"
          ]
        }
      ],
      "source": [
        "#This is a comment.\n",
        "print(\"Hello, World!\")"
      ]
    },
    {
      "cell_type": "markdown",
      "metadata": {
        "id": "-4b8O0LA86-a"
      },
      "source": [
        "#### Lists"
      ]
    },
    {
      "cell_type": "markdown",
      "metadata": {
        "cell_style": "center",
        "id": "HyHxeBF986-a"
      },
      "source": [
        "Lists are containers that hold a number of other objects, in a given order.\n",
        "To create a list, put a number of expressions in square brackets:\n",
        "\n",
        "``L = [expression, ...]``\n",
        "    \n",
        "The expressions can be anything; you can put all kinds of objects in lists, including other lists.\n",
        "\n",
        "Example:"
      ]
    },
    {
      "cell_type": "code",
      "execution_count": 6,
      "metadata": {
        "cell_style": "center",
        "id": "ArM3y4Ir86-a",
        "outputId": "28fb8e19-5f52-49b9-d2a8-0003f2e11bce",
        "colab": {
          "base_uri": "https://localhost:8080/"
        }
      },
      "outputs": [
        {
          "output_type": "stream",
          "name": "stdout",
          "text": [
            "['red', 'blue', 0, 1]\n"
          ]
        }
      ],
      "source": [
        "firstList = ['red', 'blue', 0, 1]\n",
        "print(firstList)"
      ]
    },
    {
      "cell_type": "markdown",
      "metadata": {
        "cell_style": "center",
        "id": "-CZN6J-l86-a"
      },
      "source": [
        "The for-in statement makes it easy to loop over the items in a list:"
      ]
    },
    {
      "cell_type": "code",
      "execution_count": 7,
      "metadata": {
        "cell_style": "center",
        "id": "Yfupff9686-a",
        "outputId": "364b1ac9-fa47-4fec-d010-c1da789c8fb8",
        "colab": {
          "base_uri": "https://localhost:8080/"
        }
      },
      "outputs": [
        {
          "output_type": "stream",
          "name": "stdout",
          "text": [
            "red\n",
            "blue\n",
            "0\n",
            "1\n"
          ]
        }
      ],
      "source": [
        "for item in firstList:\n",
        "    print(item)"
      ]
    },
    {
      "cell_type": "markdown",
      "metadata": {
        "id": "STdGlyI_86-a"
      },
      "source": [
        "**Accessing Lists**\n",
        "\n",
        "``len(L)`` returns the number of items in the list, ``L[i]`` returns the item at index i (the first item has index 0), and ``L[i:j]`` returns a new list, containing the objects between i and j."
      ]
    },
    {
      "cell_type": "markdown",
      "metadata": {
        "id": "inB6_9_586-a"
      },
      "source": [
        "**List comprehensions**\n",
        "\n",
        "Python also supports computed lists, called “list comprehensions”. In its simplest form, a list comprehension has the following syntax:\n",
        "\n",
        "``L = [expression(variable) for variable in sequence]``\n",
        "\n",
        "where the expression is evaluated once, for every item in the sequence.\n",
        "\n",
        "Example:"
      ]
    },
    {
      "cell_type": "code",
      "execution_count": 8,
      "metadata": {
        "id": "9qre0n9-86-b",
        "outputId": "37725ce9-c0e8-4768-861a-ce62686a84e9",
        "colab": {
          "base_uri": "https://localhost:8080/"
        }
      },
      "outputs": [
        {
          "output_type": "stream",
          "name": "stdout",
          "text": [
            "[0, 1, 4, 9, 16, 25, 36, 49, 64, 81]\n"
          ]
        }
      ],
      "source": [
        "secondList = [variable**2 for variable in range(10)]\n",
        "print(secondList)"
      ]
    },
    {
      "cell_type": "markdown",
      "metadata": {
        "id": "LtBD_BEG86-b"
      },
      "source": [
        "#### Dictionaries"
      ]
    },
    {
      "cell_type": "markdown",
      "metadata": {
        "id": "rFELVaj786-b"
      },
      "source": [
        "Dictionaries written with curly brackets are collections which are unordered, changeable and indexed. "
      ]
    },
    {
      "cell_type": "code",
      "execution_count": null,
      "metadata": {
        "id": "ybXd92wF86-b"
      },
      "outputs": [],
      "source": [
        "thisdict = {\"brand\": \"Ford\",\n",
        "            \"model\": \"Mustang\",\n",
        "            \"year\": 1964\n",
        "           }\n",
        "print(thisdict)"
      ]
    },
    {
      "cell_type": "markdown",
      "metadata": {
        "id": "Be7RrkzG86-b"
      },
      "source": [
        "You can access the items of a dictionary by referring to its key name, inside square brackets:"
      ]
    },
    {
      "cell_type": "code",
      "execution_count": null,
      "metadata": {
        "id": "kMzTQYaU86-b"
      },
      "outputs": [],
      "source": [
        "x = thisdict[\"model\"]\n",
        "print(x)"
      ]
    },
    {
      "cell_type": "markdown",
      "metadata": {
        "id": "TgIgtsNO86-b"
      },
      "source": [
        "A dictionary can also contain many dictionaries, this is called nested dictionaries."
      ]
    },
    {
      "cell_type": "code",
      "execution_count": 10,
      "metadata": {
        "id": "1iQK9kJX86-b",
        "outputId": "164ac07a-480e-43f5-99ce-7ba01808aa74",
        "colab": {
          "base_uri": "https://localhost:8080/"
        }
      },
      "outputs": [
        {
          "output_type": "stream",
          "name": "stdout",
          "text": [
            "{'Milk': {'A': 1, 'B': 2}, 'Choco': {'A': 3, 'B': 2}}\n"
          ]
        }
      ],
      "source": [
        "portion = {'Milk': {'A': 1, 'B': 2},\n",
        "           'Choco': {'A': 3,'B': 2}\n",
        "          }\n",
        "print(portion)"
      ]
    },
    {
      "cell_type": "markdown",
      "metadata": {
        "id": "IBXBKRY386-b"
      },
      "source": [
        "### PuLP syntax"
      ]
    },
    {
      "cell_type": "markdown",
      "source": [
        "####Chocolate Manufacturing####\n",
        "\n",
        "We want to approach a simple optimization problem for the production amounts of two products A and B.\n",
        "\n",
        "Decison Variables: \n",
        "* Amount of Product A: $x_a$\n",
        "* Amount of Product B: $x_b$\n",
        "\n",
        "Availabilities:\n",
        "* $max\\_ingredients_{Milk}$ = 20\n",
        "* $max\\_ingredients_{Choco}$ = 40"
      ],
      "metadata": {
        "id": "tXJT_VmtJKfo"
      }
    },
    {
      "cell_type": "markdown",
      "metadata": {
        "cell_style": "split",
        "id": "WzZoNbpi86-c"
      },
      "source": [
        "Revenue:\n",
        "$$9*x_A + 14*x_B$$\n"
      ]
    },
    {
      "cell_type": "markdown",
      "metadata": {
        "cell_style": "split",
        "id": "4LmIuf8m86-c"
      },
      "source": [
        "Amount of Milk: \n",
        "$$1*x_A + 2*x_B$$\n",
        "\n",
        "Amount of Choco:\n",
        "$$3*x_A + 2*x_B$$"
      ]
    },
    {
      "cell_type": "markdown",
      "source": [
        "Costs for Milk:\n",
        "$$0.1*1*x_A + 0.1*2*x_B$$\n",
        "Costs for Choco:\n",
        "$$0.3*3*x_A + 0.3*2*x_B $$"
      ],
      "metadata": {
        "id": "cuV1jrbkI8aO"
      }
    },
    {
      "cell_type": "markdown",
      "source": [
        "![image.png](data:image/png;base64,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)"
      ],
      "metadata": {
        "id": "yx9O6XI1Q86P"
      }
    },
    {
      "cell_type": "code",
      "source": [],
      "metadata": {
        "id": "7R5FCXmUOHdl"
      },
      "execution_count": null,
      "outputs": []
    },
    {
      "cell_type": "markdown",
      "metadata": {
        "id": "Vqj8HNTa86-c"
      },
      "source": [
        "We want to maximize profit, which is made up of revenue minus costs. In the following, the problem is presented in general terms for any number of products and ingredients."
      ]
    },
    {
      "cell_type": "markdown",
      "metadata": {
        "cell_style": "center",
        "id": "H4u-iXyA86-c"
      },
      "source": [
        "$$\\max \\sum_{p\\ \\in\\ products} prices_p * quantity_p - \\sum_{i\\ \\in\\ ingredients}\\sum_{p\\ \\in\\ products}\n",
        "costs_i * portion_{i,p} * quantity_p $$\n",
        "subject to:\n",
        "$$\\sum_{p\\ \\in\\ products} portion_{i,p} * quantity_p\\leq max\\_ingredients_i\\quad \\forall i\\ \\in\\ ingredients$$\n",
        "$$quantity_p \\geq 0\\quad  \\forall p\\in\\ products$$\n",
        "\n"
      ]
    },
    {
      "cell_type": "code",
      "source": [],
      "metadata": {
        "id": "_Zsu_j18L34y"
      },
      "execution_count": null,
      "outputs": []
    },
    {
      "cell_type": "markdown",
      "source": [
        "####Implementation in PuLP"
      ],
      "metadata": {
        "id": "ClYybXovLlZY"
      }
    },
    {
      "cell_type": "markdown",
      "metadata": {
        "id": "VNxQP5PI86-c"
      },
      "source": [
        "Step 1: Create the Linear programming problem ``LpProblem()`` as maximization ``LpMaximize``."
      ]
    },
    {
      "cell_type": "code",
      "execution_count": 11,
      "metadata": {
        "id": "KA3DTfr686-c",
        "outputId": "0f773677-69e1-4a8b-b9d3-bd406378036b",
        "colab": {
          "base_uri": "https://localhost:8080/"
        }
      },
      "outputs": [
        {
          "output_type": "stream",
          "name": "stderr",
          "text": [
            "/usr/local/lib/python3.7/dist-packages/pulp/pulp.py:1352: UserWarning: Spaces are not permitted in the name. Converted to '_'\n",
            "  warnings.warn(\"Spaces are not permitted in the name. Converted to '_'\")\n"
          ]
        }
      ],
      "source": [
        "m = LpProblem(\"chocolate maufacturing\", LpMaximize)"
      ]
    },
    {
      "cell_type": "markdown",
      "metadata": {
        "id": "kz-T3Y9m86-c"
      },
      "source": [
        "Step 2: Set the lists for the index sets (here $products\\ p$ and $ingredients\\ i$) and the dictionaries for the parameters (here $prices, costs, portion, max\\_ingredients$)"
      ]
    },
    {
      "cell_type": "code",
      "execution_count": 12,
      "metadata": {
        "cell_style": "split",
        "id": "ihfTe4xx86-c"
      },
      "outputs": [],
      "source": [
        "# Index sets\n",
        "products = ['A', 'B']\n",
        "ingredients = ['Milk', 'Choco']"
      ]
    },
    {
      "cell_type": "code",
      "execution_count": 13,
      "metadata": {
        "cell_style": "split",
        "id": "o-A0EKtb86-c"
      },
      "outputs": [],
      "source": [
        "# Parameters\n",
        "costs = {'Milk': 0.1, \n",
        "         'Choco': 0.3}\n",
        "\n",
        "prices = {'A': 9,\n",
        "          'B': 14}\n",
        "\n",
        "portion = {'Milk': {'A': 1, 'B': 2},\n",
        "           'Choco': {'A': 3,'B': 2}}\n",
        "\n",
        "max_ingredients = {'Milk': 20, \n",
        "                   'Choco': 40}"
      ]
    },
    {
      "cell_type": "markdown",
      "metadata": {
        "id": "IoFhA3Q586-c"
      },
      "source": [
        "Step 3: Create the continuous decision variables ``LpVariable.dicts()`` for the corresponding indexes (here $products$). Set  ``lowBound=0`` to include the second part of the constraints here."
      ]
    },
    {
      "cell_type": "code",
      "execution_count": 14,
      "metadata": {
        "id": "HfjEC7Sp86-c"
      },
      "outputs": [],
      "source": [
        "# Variables\n",
        "quantity = LpVariable.dicts(\"quantity\", products, lowBound=0, cat='Continuous')"
      ]
    },
    {
      "cell_type": "markdown",
      "metadata": {
        "id": "lgKQ8U8n86-c"
      },
      "source": [
        "Sometimes you don't need lists for the indexes and you can directly use the keys of the dictionaries."
      ]
    },
    {
      "cell_type": "code",
      "execution_count": 15,
      "metadata": {
        "cell_style": "split",
        "id": "2YeW6UWs86-c",
        "outputId": "0dee5ccd-36cc-4f5f-eddc-9087a310a999",
        "colab": {
          "base_uri": "https://localhost:8080/"
        }
      },
      "outputs": [
        {
          "output_type": "stream",
          "name": "stdout",
          "text": [
            "A\n",
            "B\n"
          ]
        }
      ],
      "source": [
        "for p in products:\n",
        "    print(p)"
      ]
    },
    {
      "cell_type": "code",
      "execution_count": 16,
      "metadata": {
        "cell_style": "split",
        "id": "yQZopGuP86-c",
        "outputId": "71129b18-e94e-477d-eaff-4a70bf8e4755",
        "colab": {
          "base_uri": "https://localhost:8080/"
        }
      },
      "outputs": [
        {
          "output_type": "stream",
          "name": "stdout",
          "text": [
            "A\n",
            "B\n"
          ]
        }
      ],
      "source": [
        "for p in prices.keys():\n",
        "    print(p)"
      ]
    },
    {
      "cell_type": "markdown",
      "metadata": {
        "id": "VpNSAy9c86-d"
      },
      "source": [
        "Step 4: Add the objective ``lpSum()`` to your model ``m``. Note that two lists in python can only be added ``list1 + list2`` and not subtracted, so we have to add the minus sign to the costs."
      ]
    },
    {
      "cell_type": "code",
      "execution_count": 17,
      "metadata": {
        "id": "5F3__Kfh86-d"
      },
      "outputs": [],
      "source": [
        "# Objective \n",
        "m += lpSum([prices[p] * quantity[p] for p in products] #this is the revenue\n",
        "           +[-costs[i] * portion[i][p] * quantity[p] for i in ingredients for p in products]) #these are the costs"
      ]
    },
    {
      "cell_type": "markdown",
      "metadata": {
        "id": "O9WOMB_q86-d"
      },
      "source": [
        "Summations $\\sum_{item\\ \\in\\ list}x_p$ have become calls to\n",
        "``\n",
        "lpSum([x[item] for item in list]).\n",
        "``"
      ]
    },
    {
      "cell_type": "markdown",
      "metadata": {
        "id": "EhsMn8n686-d"
      },
      "source": [
        "Step 5: Set the constraints (note, we already respect the second part of the constraints in our variables)."
      ]
    },
    {
      "cell_type": "code",
      "execution_count": 18,
      "metadata": {
        "id": "1IvlM3CS86-d"
      },
      "outputs": [],
      "source": [
        "# Constraints\n",
        "for i in ingredients:\n",
        "    m += lpSum(portion[i][p] * quantity[p] for p in products) <= max_ingredients[i]"
      ]
    },
    {
      "cell_type": "markdown",
      "metadata": {
        "id": "eWbGL2BH86-d"
      },
      "source": [
        "The quantifiers (here $\\forall i \\in ingredients$) become `` for...in loops`` and summations have become calls to ``lpSum()``."
      ]
    },
    {
      "cell_type": "markdown",
      "metadata": {
        "id": "JUVVxZGy86-d"
      },
      "source": [
        "As you can see, the impementiation is quite similar to the mathematical notation. "
      ]
    },
    {
      "cell_type": "markdown",
      "metadata": {
        "cell_style": "center",
        "id": "PJ2FM-6r86-d"
      },
      "source": [
        "$$\\max \\sum_{p\\ \\in\\ products} prices_p * quantity_p - \\sum_{i\\ \\in\\ ingredients}\\sum_{p\\ \\in\\ products}\n",
        "costs_i * portion_{i,p} * quantity_p $$\n",
        "subject to:\n",
        "$$\\sum_{p\\ \\in\\ products} portion_{i,p} * quantity_p\\leq max\\_ingredients_i\\quad \\forall i\\in ingredients$$\n",
        "$$quantity_p \\geq 0\\quad  \\forall p\\in products$$\n",
        "\n"
      ]
    },
    {
      "cell_type": "code",
      "execution_count": 19,
      "metadata": {
        "id": "jxocQ0wF86-d",
        "outputId": "5fb6385f-9f38-4826-d96a-9ed3aa4a808a",
        "colab": {
          "base_uri": "https://localhost:8080/"
        }
      },
      "outputs": [
        {
          "output_type": "execute_result",
          "data": {
            "text/plain": [
              "chocolate_maufacturing:\n",
              "MAXIMIZE\n",
              "8.0*quantity_A + 13.200000000000001*quantity_B + 0.0\n",
              "SUBJECT TO\n",
              "_C1: quantity_A + 2 quantity_B <= 20\n",
              "\n",
              "_C2: 3 quantity_A + 2 quantity_B <= 40\n",
              "\n",
              "VARIABLES\n",
              "quantity_A Continuous\n",
              "quantity_B Continuous"
            ]
          },
          "metadata": {},
          "execution_count": 19
        }
      ],
      "source": [
        "m"
      ]
    },
    {
      "cell_type": "markdown",
      "metadata": {
        "id": "Dkq21Q6S86-d"
      },
      "source": [
        "Step 6: Solve the model ``m.solve()`` and check the optimality ``LpStatus[m.status]``."
      ]
    },
    {
      "cell_type": "code",
      "execution_count": 20,
      "metadata": {
        "id": "DoEzWFa686-d",
        "outputId": "412143d8-16a6-455c-97aa-b83f798e50f4",
        "colab": {
          "base_uri": "https://localhost:8080/",
          "height": 35
        }
      },
      "outputs": [
        {
          "output_type": "execute_result",
          "data": {
            "text/plain": [
              "'Optimal'"
            ],
            "application/vnd.google.colaboratory.intrinsic+json": {
              "type": "string"
            }
          },
          "metadata": {},
          "execution_count": 20
        }
      ],
      "source": [
        "# Solve\n",
        "m.solve()\n",
        "LpStatus[m.status]"
      ]
    },
    {
      "cell_type": "markdown",
      "metadata": {
        "id": "-tJnwlkD86-d"
      },
      "source": [
        "Step 7: Print the solution. ``m.variables()`` is the variable list of our model ``m``. With ``.name`` we get their variable names and with ``.varValue`` the values."
      ]
    },
    {
      "cell_type": "code",
      "execution_count": 21,
      "metadata": {
        "id": "Lq35iCg_86-d",
        "outputId": "0e3b596c-8231-4c34-d799-5b8ab1124cfc",
        "colab": {
          "base_uri": "https://localhost:8080/"
        }
      },
      "outputs": [
        {
          "output_type": "stream",
          "name": "stdout",
          "text": [
            "quantity_A = 10.0\n",
            "quantity_B = 5.0\n"
          ]
        }
      ],
      "source": [
        "for var in m.variables():\n",
        "    print (\"{} = {}\".format(var.name, var.varValue))"
      ]
    },
    {
      "cell_type": "markdown",
      "metadata": {
        "id": "4cLimCnV86-d"
      },
      "source": [
        "``.value`` evaluates the objective function for the solution."
      ]
    },
    {
      "cell_type": "code",
      "execution_count": 22,
      "metadata": {
        "id": "uMtzOuqW86-d",
        "outputId": "e4716f69-18af-455d-f137-969420d068eb",
        "colab": {
          "base_uri": "https://localhost:8080/"
        }
      },
      "outputs": [
        {
          "output_type": "stream",
          "name": "stdout",
          "text": [
            "146.0\n"
          ]
        }
      ],
      "source": [
        "print (value(m.objective))"
      ]
    },
    {
      "cell_type": "code",
      "source": [],
      "metadata": {
        "id": "hCtGZPFiRE7N"
      },
      "execution_count": null,
      "outputs": []
    }
  ],
  "metadata": {
    "celltoolbar": "Slideshow",
    "kernelspec": {
      "display_name": "Python 3",
      "language": "python",
      "name": "python3"
    },
    "language_info": {
      "codemirror_mode": {
        "name": "ipython",
        "version": 3
      },
      "file_extension": ".py",
      "mimetype": "text/x-python",
      "name": "python",
      "nbconvert_exporter": "python",
      "pygments_lexer": "ipython3",
      "version": "3.8.3"
    },
    "rise": {
      "enable_chalkboard": false,
      "overlay": "<div class='background'></div><div class='header'>WS 19/20</br>DSS</div><div class='logo'><img src='images/unilogo.png'></div><div class='bar'></div>",
      "scroll": true,
      "slideNumber": "h.v"
    },
    "toc": {
      "base_numbering": 1,
      "nav_menu": {},
      "number_sections": true,
      "sideBar": true,
      "skip_h1_title": true,
      "title_cell": "Table of Contents",
      "title_sidebar": "Contents",
      "toc_cell": true,
      "toc_position": {},
      "toc_section_display": true,
      "toc_window_display": false
    },
    "colab": {
      "provenance": [],
      "include_colab_link": true
    }
  },
  "nbformat": 4,
  "nbformat_minor": 0
}