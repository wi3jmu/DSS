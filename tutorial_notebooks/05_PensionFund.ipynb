{
 "cells": [
  {
   "cell_type": "code",
   "execution_count": 1,
   "metadata": {
    "colab": {
     "base_uri": "https://localhost:8080/"
    },
    "id": "fjw5mGVqRn7s",
    "outputId": "991fc542-4efe-4a4d-b6ad-625b4663e7a2"
   },
   "outputs": [
    {
     "name": "stdout",
     "output_type": "stream",
     "text": [
      "Collecting pulp\n",
      "\u001b[?25l  Downloading https://files.pythonhosted.org/packages/89/0c/6d80f5f81a92d1733cc5ca180491b8a3cd5839e335627a0046c81b7d3d3d/PuLP-2.3.1-py3-none-any.whl (40.6MB)\n",
      "\u001b[K     |████████████████████████████████| 40.6MB 95kB/s \n",
      "\u001b[?25hCollecting amply>=0.1.2\n",
      "  Downloading https://files.pythonhosted.org/packages/f3/c5/dfa09dd2595a2ab2ab4e6fa7bebef9565812722e1980d04b0edce5032066/amply-0.1.4-py3-none-any.whl\n",
      "Requirement already satisfied: docutils>=0.3 in /usr/local/lib/python3.6/dist-packages (from amply>=0.1.2->pulp) (0.16)\n",
      "Requirement already satisfied: pyparsing in /usr/local/lib/python3.6/dist-packages (from amply>=0.1.2->pulp) (2.4.7)\n",
      "Installing collected packages: amply, pulp\n",
      "Successfully installed amply-0.1.4 pulp-2.3.1\n"
     ]
    }
   ],
   "source": [
    "!pip install pulp\n",
    "from pulp import *\n",
    "import numpy as np\n",
    "import pandas as pd\n",
    "import matplotlib.pyplot as plt\n",
    "import seaborn as sns\n",
    "from scipy.stats import norm"
   ]
  },
  {
   "cell_type": "code",
   "execution_count": 2,
   "metadata": {
    "id": "9K6iEaLERn7u"
   },
   "outputs": [],
   "source": [
    "payments = [11000,12000,14000,15000,16000,\n",
    "            18000,20000,21000,22000,24000,\n",
    "            25000,30000,31000,31000,31000]\n",
    "\n",
    "yields = [[0,60,60,60,60,1060,0,0,0,0,0,0,0,0,0],\n",
    "          [0,65,65,65,65,65,65,65,65,65,65,1060,0,0,0],\n",
    "          [0,75,75,75,75,75,75,75,75,75,75,75,75,75,1075]\n",
    "         ]\n",
    "\n",
    "costs = [980,970,1050]\n",
    "\n",
    "bonds = range(len(costs))\n",
    "years = range(len(payments))"
   ]
  },
  {
   "cell_type": "code",
   "execution_count": 3,
   "metadata": {
    "id": "BgI3U6kERn7v"
   },
   "outputs": [],
   "source": [
    "# Problem\n",
    "prob = LpProblem(\"Pension_Fund\", LpMaximize)\n",
    "\n",
    "# Variables\n",
    "## number of bond i bought \n",
    "x = LpVariable.dicts(\"Bond\", bonds, 0)\n",
    "## cash available at the end of year j\n",
    "y = LpVariable.dicts(\"Cash\", years, 0)\n",
    "\n",
    "# Objective function\n",
    "prob += y[14]\n",
    "\n",
    "# Constraints \n",
    "for j in years:\n",
    "    prob += lpSum([yields[i][k]*x[i] for i in bonds for k in range(j+1)]+\n",
    "                  [-costs[i]*x[i] for i in bonds] +\n",
    "                  [-payments[k] for k in range(j+1)]) + 250000 == y[j]\n",
    "    \n",
    "for j in years:\n",
    "    prob += y[j] >= 0"
   ]
  },
  {
   "cell_type": "code",
   "execution_count": 4,
   "metadata": {
    "colab": {
     "base_uri": "https://localhost:8080/"
    },
    "id": "h56jlifdRn7v",
    "outputId": "05df1b09-1f0c-4970-c90f-63926db70274"
   },
   "outputs": [
    {
     "name": "stdout",
     "output_type": "stream",
     "text": [
      "Pension_Fund:\n",
      "MAXIMIZE\n",
      "1*Cash_14 + 0\n",
      "SUBJECT TO\n",
      "_C1: - 980 Bond_0 - 970 Bond_1 - 1050 Bond_2 - Cash_0 = -239000\n",
      "\n",
      "_C2: - 920 Bond_0 - 905 Bond_1 - 975 Bond_2 - Cash_1 = -227000\n",
      "\n",
      "_C3: - 860 Bond_0 - 840 Bond_1 - 900 Bond_2 - Cash_2 = -213000\n",
      "\n",
      "_C4: - 800 Bond_0 - 775 Bond_1 - 825 Bond_2 - Cash_3 = -198000\n",
      "\n",
      "_C5: - 740 Bond_0 - 710 Bond_1 - 750 Bond_2 - Cash_4 = -182000\n",
      "\n",
      "_C6: 320 Bond_0 - 645 Bond_1 - 675 Bond_2 - Cash_5 = -164000\n",
      "\n",
      "_C7: 320 Bond_0 - 580 Bond_1 - 600 Bond_2 - Cash_6 = -144000\n",
      "\n",
      "_C8: 320 Bond_0 - 515 Bond_1 - 525 Bond_2 - Cash_7 = -123000\n",
      "\n",
      "_C9: 320 Bond_0 - 450 Bond_1 - 450 Bond_2 - Cash_8 = -101000\n",
      "\n",
      "_C10: 320 Bond_0 - 385 Bond_1 - 375 Bond_2 - Cash_9 = -77000\n",
      "\n",
      "_C11: 320 Bond_0 - 320 Bond_1 - 300 Bond_2 - Cash_10 = -52000\n",
      "\n",
      "_C12: 320 Bond_0 + 740 Bond_1 - 225 Bond_2 - Cash_11 = -22000\n",
      "\n",
      "_C13: 320 Bond_0 + 740 Bond_1 - 150 Bond_2 - Cash_12 = 9000\n",
      "\n",
      "_C14: 320 Bond_0 + 740 Bond_1 - 75 Bond_2 - Cash_13 = 40000\n",
      "\n",
      "_C15: 320 Bond_0 + 740 Bond_1 + 1000 Bond_2 - Cash_14 = 71000\n",
      "\n",
      "_C16: Cash_0 >= 0\n",
      "\n",
      "_C17: Cash_1 >= 0\n",
      "\n",
      "_C18: Cash_2 >= 0\n",
      "\n",
      "_C19: Cash_3 >= 0\n",
      "\n",
      "_C20: Cash_4 >= 0\n",
      "\n",
      "_C21: Cash_5 >= 0\n",
      "\n",
      "_C22: Cash_6 >= 0\n",
      "\n",
      "_C23: Cash_7 >= 0\n",
      "\n",
      "_C24: Cash_8 >= 0\n",
      "\n",
      "_C25: Cash_9 >= 0\n",
      "\n",
      "_C26: Cash_10 >= 0\n",
      "\n",
      "_C27: Cash_11 >= 0\n",
      "\n",
      "_C28: Cash_12 >= 0\n",
      "\n",
      "_C29: Cash_13 >= 0\n",
      "\n",
      "_C30: Cash_14 >= 0\n",
      "\n",
      "VARIABLES\n",
      "Bond_0 Continuous\n",
      "Bond_1 Continuous\n",
      "Bond_2 Continuous\n",
      "Cash_0 Continuous\n",
      "Cash_1 Continuous\n",
      "Cash_10 Continuous\n",
      "Cash_11 Continuous\n",
      "Cash_12 Continuous\n",
      "Cash_13 Continuous\n",
      "Cash_14 Continuous\n",
      "Cash_2 Continuous\n",
      "Cash_3 Continuous\n",
      "Cash_4 Continuous\n",
      "Cash_5 Continuous\n",
      "Cash_6 Continuous\n",
      "Cash_7 Continuous\n",
      "Cash_8 Continuous\n",
      "Cash_9 Continuous\n",
      "\n"
     ]
    }
   ],
   "source": [
    "print(prob)"
   ]
  },
  {
   "cell_type": "code",
   "execution_count": 5,
   "metadata": {
    "colab": {
     "base_uri": "https://localhost:8080/"
    },
    "id": "R5XQlVASRn7v",
    "outputId": "0a9fecfa-8dac-491f-9b11-a4922fec4665"
   },
   "outputs": [
    {
     "name": "stdout",
     "output_type": "stream",
     "text": [
      "Status = Optimal\n"
     ]
    }
   ],
   "source": [
    "# Optimize\n",
    "prob.solve()\n",
    "\n",
    "# Print the status of the solved LP\n",
    "print(\"Status = %s\" % LpStatus[prob.status])"
   ]
  },
  {
   "cell_type": "code",
   "execution_count": 6,
   "metadata": {
    "colab": {
     "base_uri": "https://localhost:8080/"
    },
    "id": "95FgHAL_Rn7v",
    "outputId": "ad1bb609-3102-4d06-ea80-f7ead3f86d81",
    "scrolled": true
   },
   "outputs": [
    {
     "name": "stdout",
     "output_type": "stream",
     "text": [
      "Bond_0 = 31.109215\n",
      "Bond_1 = 55.529010\n",
      "Bond_2 = 147.285550\n",
      "Objective = 127331.970000\n"
     ]
    }
   ],
   "source": [
    "# Print the value of the variables at the optimum\n",
    "for b in bonds:\n",
    "    print(\"%s = %f\" % (x[b].name, x[b].varValue))\n",
    "\n",
    "# Print the value of the objective\n",
    "print(\"Objective = %f\" % value(prob.objective))"
   ]
  },
  {
   "cell_type": "code",
   "execution_count": 7,
   "metadata": {
    "id": "8lH-teRQRn7w"
   },
   "outputs": [],
   "source": [
    "data_fixed = pd.DataFrame([y[j].varValue for j in years] , index = years, columns = ['fixed'])\n",
    "\n",
    "sigma = 500\n",
    "nb_scenarios = 100\n",
    "payments_random = [np.random.normal(payments[j], sigma, nb_scenarios) for j in years]\n",
    "data_scenarios = pd.DataFrame([sum([yields[i][k]*x[i].varValue for i in bonds for k in range(j+1)]) + \n",
    "                               sum([-costs[i]*x[i].varValue for i in bonds]) +\n",
    "                               sum([-payments_random[k] for k in range(j+1)]) + 250000 for j in years],\n",
    "                              index = years\n",
    "                             )\n",
    "\n",
    "data = pd.concat([data_fixed, data_scenarios], axis=1).reset_index().melt(id_vars=['index']).rename(columns={'index':'year', 'variable':'scenario'})\n",
    "data['kind'] = np.where(data['scenario']=='fixed', 'fixed', 'random')"
   ]
  },
  {
   "cell_type": "code",
   "execution_count": 8,
   "metadata": {
    "colab": {
     "base_uri": "https://localhost:8080/",
     "height": 433
    },
    "id": "YA5z_fQHRn7w",
    "outputId": "b86c7cdf-8147-44dc-eb6d-507499a0b472"
   },
   "outputs": [
    {
     "data": {
      "text/html": [
       "<div>\n",
       "<style scoped>\n",
       "    .dataframe tbody tr th:only-of-type {\n",
       "        vertical-align: middle;\n",
       "    }\n",
       "\n",
       "    .dataframe tbody tr th {\n",
       "        vertical-align: top;\n",
       "    }\n",
       "\n",
       "    .dataframe thead th {\n",
       "        text-align: right;\n",
       "    }\n",
       "</style>\n",
       "<table border=\"1\" class=\"dataframe\">\n",
       "  <thead>\n",
       "    <tr style=\"text-align: right;\">\n",
       "      <th></th>\n",
       "      <th>year</th>\n",
       "      <th>scenario</th>\n",
       "      <th>value</th>\n",
       "      <th>kind</th>\n",
       "    </tr>\n",
       "  </thead>\n",
       "  <tbody>\n",
       "    <tr>\n",
       "      <th>898</th>\n",
       "      <td>13</td>\n",
       "      <td>58</td>\n",
       "      <td>-3604.953811</td>\n",
       "      <td>random</td>\n",
       "    </tr>\n",
       "    <tr>\n",
       "      <th>1048</th>\n",
       "      <td>13</td>\n",
       "      <td>68</td>\n",
       "      <td>-3500.879039</td>\n",
       "      <td>random</td>\n",
       "    </tr>\n",
       "    <tr>\n",
       "      <th>1078</th>\n",
       "      <td>13</td>\n",
       "      <td>70</td>\n",
       "      <td>-3266.021984</td>\n",
       "      <td>random</td>\n",
       "    </tr>\n",
       "    <tr>\n",
       "      <th>1168</th>\n",
       "      <td>13</td>\n",
       "      <td>76</td>\n",
       "      <td>-3154.938329</td>\n",
       "      <td>random</td>\n",
       "    </tr>\n",
       "    <tr>\n",
       "      <th>805</th>\n",
       "      <td>10</td>\n",
       "      <td>52</td>\n",
       "      <td>-3107.203351</td>\n",
       "      <td>random</td>\n",
       "    </tr>\n",
       "    <tr>\n",
       "      <th>...</th>\n",
       "      <td>...</td>\n",
       "      <td>...</td>\n",
       "      <td>...</td>\n",
       "      <td>...</td>\n",
       "    </tr>\n",
       "    <tr>\n",
       "      <th>959</th>\n",
       "      <td>14</td>\n",
       "      <td>62</td>\n",
       "      <td>129755.384283</td>\n",
       "      <td>random</td>\n",
       "    </tr>\n",
       "    <tr>\n",
       "      <th>464</th>\n",
       "      <td>14</td>\n",
       "      <td>29</td>\n",
       "      <td>129790.793437</td>\n",
       "      <td>random</td>\n",
       "    </tr>\n",
       "    <tr>\n",
       "      <th>1004</th>\n",
       "      <td>14</td>\n",
       "      <td>65</td>\n",
       "      <td>130232.697509</td>\n",
       "      <td>random</td>\n",
       "    </tr>\n",
       "    <tr>\n",
       "      <th>1214</th>\n",
       "      <td>14</td>\n",
       "      <td>79</td>\n",
       "      <td>130425.405006</td>\n",
       "      <td>random</td>\n",
       "    </tr>\n",
       "    <tr>\n",
       "      <th>1139</th>\n",
       "      <td>14</td>\n",
       "      <td>74</td>\n",
       "      <td>130880.882875</td>\n",
       "      <td>random</td>\n",
       "    </tr>\n",
       "  </tbody>\n",
       "</table>\n",
       "<p>1515 rows × 4 columns</p>\n",
       "</div>"
      ],
      "text/plain": [
       "      year scenario          value    kind\n",
       "898     13       58   -3604.953811  random\n",
       "1048    13       68   -3500.879039  random\n",
       "1078    13       70   -3266.021984  random\n",
       "1168    13       76   -3154.938329  random\n",
       "805     10       52   -3107.203351  random\n",
       "...    ...      ...            ...     ...\n",
       "959     14       62  129755.384283  random\n",
       "464     14       29  129790.793437  random\n",
       "1004    14       65  130232.697509  random\n",
       "1214    14       79  130425.405006  random\n",
       "1139    14       74  130880.882875  random\n",
       "\n",
       "[1515 rows x 4 columns]"
      ]
     },
     "execution_count": 8,
     "metadata": {
      "tags": []
     },
     "output_type": "execute_result"
    }
   ],
   "source": [
    "data.sort_values('value')"
   ]
  },
  {
   "cell_type": "code",
   "execution_count": 9,
   "metadata": {
    "colab": {
     "base_uri": "https://localhost:8080/",
     "height": 403
    },
    "id": "E3o-AZO_Rn7w",
    "outputId": "d3f70a16-f37f-4e85-87f3-cfb337f4652e"
   },
   "outputs": [
    {
     "data": {
      "image/png": "[encoded data removed]",
      "text/plain": [
       "<Figure size 434.625x360 with 1 Axes>"
      ]
     },
     "metadata": {
      "needs_background": "light",
      "tags": []
     },
     "output_type": "display_data"
    }
   ],
   "source": [
    "sns.relplot(x='year', y='value', data=data, hue='kind')\n",
    "plt.plot(years, data_fixed)\n",
    "plt.axhline(0, color='red')\n",
    "plt.show()"
   ]
  },
  {
   "cell_type": "markdown",
   "metadata": {
    "id": "Vmql89ZHRn7x"
   },
   "source": [
    "The blue line shows year by year cash profile. It's clear to see that with some uncertainty in the data, the line could easily dive below $0$. Let's assume that $\\beta_j$ introduced above are expected values of random payments $\\beta_{j*}$. We will further assume that $\\beta_{j*}$ is normally distributed with $\\sigma = 500$. When 100 different payment profiles were simulated based on the normal distribution we can clearly see that it's actually possible for the cash to dive below $0$ which shouldn't be allowed based on the constraint of the problem."
   ]
  },
  {
   "cell_type": "markdown",
   "metadata": {
    "id": "brbgEKa7Rn7x"
   },
   "source": [
    "## Chance Constraints \n",
    "To incorporate uncertainty into this question, we will look at chance constraints."
   ]
  },
  {
   "cell_type": "code",
   "execution_count": 10,
   "metadata": {
    "id": "LepwolKdRn7x"
   },
   "outputs": [],
   "source": [
    "def pension_problem(payments, yields, costs, payments_random, sigma, prob=0.95, print_problem=False, output=True):\n",
    "    \n",
    "    bonds = range(len(costs))\n",
    "    years = range(len(payments))\n",
    "    \n",
    "    # Problem\n",
    "    p = LpProblem(\"Pension_Fund\", LpMaximize)\n",
    "\n",
    "    # Variables\n",
    "    ## number of bond i bought \n",
    "    x = LpVariable.dicts(\"Bond\", bonds, 0)\n",
    "    ## cash available at the end of year j\n",
    "    y = LpVariable.dicts(\"Cash\", years, 0)\n",
    "\n",
    "    # Objective function\n",
    "    p += lpSum([yields[i][k]*x[i] for i in bonds for k in years]+\n",
    "                  [-costs[i]*x[i] for i in bonds] +\n",
    "                  [-payments[k] for k in years]) + 250000\n",
    "\n",
    "    # Constraints \n",
    "    for j in years:\n",
    "        p += lpSum([yields[i][k]*x[i] for i in bonds for k in range(j+1)]+\n",
    "                      [-costs[i]*x[i] for i in bonds] +\n",
    "                      [-payments[k] for k in range(j+1)]) + 250000 == y[j]\n",
    "\n",
    "    for j in years:\n",
    "        p += y[j] >= sigma*norm.ppf(prob)\n",
    "    \n",
    "    if print_problem:\n",
    "        print(p)\n",
    "    \n",
    "    # Optimize\n",
    "    p.solve()\n",
    "    \n",
    "    \n",
    "    # Print the status of the solved LP, if not optimal\n",
    "    if p.status !=1:\n",
    "        print(\"Status = %s\" % LpStatus[p.status])\n",
    "    obj = value(p.objective)\n",
    "    \n",
    "    if output:   \n",
    "        # Print the value of the variables at the optimum\n",
    "        for b in bonds:\n",
    "            print(\"%s = %f\" % (x[b].name, x[b].varValue))\n",
    "        # Print the value of the objective\n",
    "        print(\"Objective = %f\" % obj)\n",
    "    \n",
    "    res = pd.DataFrame([sum([yields[i][k]*x[i].varValue for i in bonds for k in range(j+1)]) + \n",
    "                        sum([-costs[i]*x[i].varValue for i in bonds]) +\n",
    "                        sum([-payments_random[k] for k in range(j+1)]) + 250000 for j in years],\n",
    "                       index = years\n",
    "                      )\n",
    "    \n",
    "    return(res, obj)"
   ]
  },
  {
   "cell_type": "code",
   "execution_count": 11,
   "metadata": {
    "colab": {
     "base_uri": "https://localhost:8080/"
    },
    "id": "8pIV4wMZRn7x",
    "outputId": "b9de38b5-e6e0-4b65-f88b-86b830f83c8c",
    "scrolled": true
   },
   "outputs": [
    {
     "name": "stdout",
     "output_type": "stream",
     "text": [
      "Pension_Fund:\n",
      "MAXIMIZE\n",
      "320*Bond_0 + 740*Bond_1 + 1000*Bond_2 + -71000\n",
      "SUBJECT TO\n",
      "_C1: - 980 Bond_0 - 970 Bond_1 - 1050 Bond_2 - Cash_0 = -239000\n",
      "\n",
      "_C2: - 920 Bond_0 - 905 Bond_1 - 975 Bond_2 - Cash_1 = -227000\n",
      "\n",
      "_C3: - 860 Bond_0 - 840 Bond_1 - 900 Bond_2 - Cash_2 = -213000\n",
      "\n",
      "_C4: - 800 Bond_0 - 775 Bond_1 - 825 Bond_2 - Cash_3 = -198000\n",
      "\n",
      "_C5: - 740 Bond_0 - 710 Bond_1 - 750 Bond_2 - Cash_4 = -182000\n",
      "\n",
      "_C6: 320 Bond_0 - 645 Bond_1 - 675 Bond_2 - Cash_5 = -164000\n",
      "\n",
      "_C7: 320 Bond_0 - 580 Bond_1 - 600 Bond_2 - Cash_6 = -144000\n",
      "\n",
      "_C8: 320 Bond_0 - 515 Bond_1 - 525 Bond_2 - Cash_7 = -123000\n",
      "\n",
      "_C9: 320 Bond_0 - 450 Bond_1 - 450 Bond_2 - Cash_8 = -101000\n",
      "\n",
      "_C10: 320 Bond_0 - 385 Bond_1 - 375 Bond_2 - Cash_9 = -77000\n",
      "\n",
      "_C11: 320 Bond_0 - 320 Bond_1 - 300 Bond_2 - Cash_10 = -52000\n",
      "\n",
      "_C12: 320 Bond_0 + 740 Bond_1 - 225 Bond_2 - Cash_11 = -22000\n",
      "\n",
      "_C13: 320 Bond_0 + 740 Bond_1 - 150 Bond_2 - Cash_12 = 9000\n",
      "\n",
      "_C14: 320 Bond_0 + 740 Bond_1 - 75 Bond_2 - Cash_13 = 40000\n",
      "\n",
      "_C15: 320 Bond_0 + 740 Bond_1 + 1000 Bond_2 - Cash_14 = 71000\n",
      "\n",
      "_C16: Cash_0 >= 822.426813476\n",
      "\n",
      "_C17: Cash_1 >= 822.426813476\n",
      "\n",
      "_C18: Cash_2 >= 822.426813476\n",
      "\n",
      "_C19: Cash_3 >= 822.426813476\n",
      "\n",
      "_C20: Cash_4 >= 822.426813476\n",
      "\n",
      "_C21: Cash_5 >= 822.426813476\n",
      "\n",
      "_C22: Cash_6 >= 822.426813476\n",
      "\n",
      "_C23: Cash_7 >= 822.426813476\n",
      "\n",
      "_C24: Cash_8 >= 822.426813476\n",
      "\n",
      "_C25: Cash_9 >= 822.426813476\n",
      "\n",
      "_C26: Cash_10 >= 822.426813476\n",
      "\n",
      "_C27: Cash_11 >= 822.426813476\n",
      "\n",
      "_C28: Cash_12 >= 822.426813476\n",
      "\n",
      "_C29: Cash_13 >= 822.426813476\n",
      "\n",
      "_C30: Cash_14 >= 822.426813476\n",
      "\n",
      "VARIABLES\n",
      "Bond_0 Continuous\n",
      "Bond_1 Continuous\n",
      "Bond_2 Continuous\n",
      "Cash_0 Continuous\n",
      "Cash_1 Continuous\n",
      "Cash_10 Continuous\n",
      "Cash_11 Continuous\n",
      "Cash_12 Continuous\n",
      "Cash_13 Continuous\n",
      "Cash_14 Continuous\n",
      "Cash_2 Continuous\n",
      "Cash_3 Continuous\n",
      "Cash_4 Continuous\n",
      "Cash_5 Continuous\n",
      "Cash_6 Continuous\n",
      "Cash_7 Continuous\n",
      "Cash_8 Continuous\n",
      "Cash_9 Continuous\n",
      "\n",
      "Bond_0 = 32.120875\n",
      "Bond_1 = 55.985134\n",
      "Bond_2 = 145.136700\n",
      "Objective = 125844.379160\n"
     ]
    }
   ],
   "source": [
    "data_scenarios, obj = pension_problem(payments, yields, costs, payments_random, sigma, prob=0.95, print_problem=True)"
   ]
  },
  {
   "cell_type": "code",
   "execution_count": 12,
   "metadata": {
    "colab": {
     "base_uri": "https://localhost:8080/",
     "height": 403
    },
    "id": "heXJ7xZ1Rn7x",
    "outputId": "505e249e-9a9d-4e09-970e-980d37320401"
   },
   "outputs": [
    {
     "data": {
      "image/png": "[encoded data removed]",
      "text/plain": [
       "<Figure size 434.625x360 with 1 Axes>"
      ]
     },
     "metadata": {
      "needs_background": "light",
      "tags": []
     },
     "output_type": "display_data"
    }
   ],
   "source": [
    "data = pd.concat([data_fixed, data_scenarios], axis=1).reset_index().melt(id_vars=['index']).rename(columns={'index':'year', 'variable':'scenario'})\n",
    "data['kind'] = np.where(data['scenario']=='fixed', 'fixed', 'random')\n",
    "\n",
    "sns.relplot(x='year', y='value', data=data, hue='kind')\n",
    "plt.plot(years, data_fixed)\n",
    "plt.axhline(0, color='red')\n",
    "plt.show()"
   ]
  },
  {
   "cell_type": "markdown",
   "metadata": {
    "id": "ebBdNEqnRn7y"
   },
   "source": [
    "Trade-off between confidence level of always having a cash profile above $\\$0$ and the final cash left in the company at the end of the 15 years."
   ]
  },
  {
   "cell_type": "code",
   "execution_count": 13,
   "metadata": {
    "id": "eiA6u7h6Rn7y",
    "scrolled": true
   },
   "outputs": [],
   "source": [
    "cash_profil = {}\n",
    "for prob in range(60,100,1):\n",
    "    data_scenarios, obj = pension_problem(payments, yields, costs, payments_random, sigma, prob=prob/100, output=False)\n",
    "    cash_profil[prob] = obj"
   ]
  },
  {
   "cell_type": "code",
   "execution_count": 14,
   "metadata": {
    "colab": {
     "base_uri": "https://localhost:8080/",
     "height": 300
    },
    "id": "pYZq4uRWRn7y",
    "outputId": "c0540d93-e0fe-4278-cf3a-4dd24413cccc"
   },
   "outputs": [
    {
     "data": {
      "image/png": "[encoded data removed]",
      "text/plain": [
       "<Figure size 432x288 with 1 Axes>"
      ]
     },
     "metadata": {
      "needs_background": "light",
      "tags": []
     },
     "output_type": "display_data"
    }
   ],
   "source": [
    "plt.plot(list(cash_profil.keys()), list(cash_profil.values()))\n",
    "plt.xlabel('probability')\n",
    "plt.ylabel('final cash')\n",
    "plt.show()"
   ]
  }
 ],
 "metadata": {
  "colab": {
   "name": "05_PensionFund.ipynb",
   "provenance": []
  },
  "kernelspec": {
   "display_name": "Python 3",
   "language": "python",
   "name": "python3"
  },
  "language_info": {
   "codemirror_mode": {
    "name": "ipython",
    "version": 3
   },
   "file_extension": ".py",
   "mimetype": "text/x-python",
   "name": "python",
   "nbconvert_exporter": "python",
   "pygments_lexer": "ipython3",
   "version": "3.8.3"
  },
  "toc": {
   "base_numbering": 1,
   "nav_menu": {},
   "number_sections": true,
   "sideBar": true,
   "skip_h1_title": false,
   "title_cell": "Table of Contents",
   "title_sidebar": "Contents",
   "toc_cell": false,
   "toc_position": {},
   "toc_section_display": true,
   "toc_window_display": false
  }
 },
 "nbformat": 4,
 "nbformat_minor": 0
}
