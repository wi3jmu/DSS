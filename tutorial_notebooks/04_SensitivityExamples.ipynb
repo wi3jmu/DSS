{
 "cells": [
  {
   "cell_type": "markdown",
   "metadata": {
    "id": "P7uXJbExoC3A"
   },
   "source": [
    "This notebook provides a possibility to generate sensitivity reports.For generating them we need different tools, which we first have to install in Colab. In particular, we use the GLPK-solver. Outside of Colab this can be done much easier. However, this is not part of the lecture and the tutorials.\n"
   ]
  },
  {
   "cell_type": "code",
   "execution_count": null,
   "metadata": {
    "colab": {
     "base_uri": "https://localhost:8080/"
    },
    "id": "zzL7JOAsoC3B",
    "outputId": "0aa42bf3-29dc-49d0-b3e0-3d56e334e2f9"
   },
   "outputs": [],
   "source": [
    "%%capture\n",
    "!pip install pulp\n",
    "!apt-get install -y -qq glpk-utils\n",
    "from pulp import *"
   ]
  },
  {
   "cell_type": "code",
   "execution_count": 3,
   "metadata": {
    "id": "UjrBV-uqoC3D"
   },
   "outputs": [],
   "source": [
    "# model\n",
    "prob = LpProblem(\"VehicleManufacturing\", LpMaximize)\n",
    "\n",
    "# variables \n",
    "x = LpVariable.dicts(\"production\", ['c', 't'], 0)\n",
    "m = LpVariable.dicts(\"machines\", [1], 0)\n",
    "\n",
    "# objective function\n",
    "prob += 300*x['c']+400*x['t']-50*m[1]\n",
    "\n",
    "# constraints\n",
    "prob += 0.8*x['c']+ x['t']-m[1] <= 0 ,'days_machine1'\n",
    "prob += m[1] <= 98, 'numbers_machine1'\n",
    "prob += 0.6*x['c']+ 0.7*x['t'] <= 73, 'days_machine2'\n",
    "prob += 2*x['c']+ 3*x['t'] <= 260,'steel'\n",
    "prob += x['c']>= 88,'min_cars'\n",
    "prob += x['t'] >= 26,'min_trucks'"
   ]
  },
  {
   "cell_type": "code",
   "execution_count": 4,
   "metadata": {
    "colab": {
     "base_uri": "https://localhost:8080/"
    },
    "id": "-m-bCOAkoC3D",
    "outputId": "26839ae1-6996-4a25-f352-8a39ae2538bf"
   },
   "outputs": [
    {
     "name": "stdout",
     "output_type": "stream",
     "text": [
      "GLPSOL: GLPK LP/MIP Solver, v4.65\n",
      "Parameter(s) specified in the command line:\n",
      " --lp VehicleManufacturing.lp --ranges /dev/stdout\n",
      "Reading problem data from 'VehicleManufacturing.lp'...\n",
      "6 rows, 3 columns, 10 non-zeros\n",
      "11 lines were read\n",
      "GLPK Simplex Optimizer, v4.65\n",
      "6 rows, 3 columns, 10 non-zeros\n",
      "Preprocessing...\n",
      "3 rows, 3 columns, 7 non-zeros\n",
      "Scaling...\n",
      " A: min|aij| =  6.000e-01  max|aij| =  3.000e+00  ratio =  5.000e+00\n",
      "Problem data seem to be well scaled\n",
      "Constructing initial basis...\n",
      "Size of triangular part is 3\n",
      "      0: obj =   3.680000000e+04 inf =   9.640e+01 (1)\n",
      "      1: obj =   3.198000000e+04 inf =   0.000e+00 (0)\n",
      "*     2: obj =   3.254000000e+04 inf =   0.000e+00 (0)\n",
      "OPTIMAL LP SOLUTION FOUND\n",
      "Time used:   0.0 secs\n",
      "Memory used: 0.0 Mb (40424 bytes)\n",
      "Write sensitivity analysis report to '/dev/stdout'...\n",
      "GLPK 4.65 - SENSITIVITY ANALYSIS REPORT                                                                         Page   1\n",
      "\n",
      "Problem:    \n",
      "Objective:  OBJ = 32540 (MAXimum)\n",
      "\n",
      "   No. Row name     St      Activity         Slack   Lower bound       Activity      Obj coef  Obj value at Limiting\n",
      "                                          Marginal   Upper bound          range         range   break point variable\n",
      "------ ------------ -- ------------- ------------- -------------  ------------- ------------- ------------- ------------\n",
      "     1 days_machine1\n",
      "                    NU        .             .               -Inf       -1.60000    -400.00000   31900.00000 min_trucks\n",
      "                                         400.00000        .              .40000          +Inf   32700.00000 steel\n",
      "\n",
      "     2 days_machine2\n",
      "                    BS      72.12000        .88000          -Inf       71.00000    -500.00000   -3520.00000 numbers_machine1\n",
      "                                            .           73.00000       72.20000     500.00000   68600.00000 min_cars\n",
      "\n",
      "     3 min_cars     NL      88.00000        .           88.00000       85.00000          -Inf   32600.00000 steel\n",
      "                                         -20.00000          +Inf       90.00000      20.00000   32500.00000 min_trucks\n",
      "\n",
      "     4 min_trucks   BS      27.60000      -1.60000      26.00000       10.00000     -25.00000   31850.00000 min_cars\n",
      "                                            .               +Inf       27.60000          +Inf          +Inf\n",
      "\n",
      "     5 numbers_machine1\n",
      "                    NU      98.00000        .               -Inf       96.40000    -350.00000   31980.00000 min_trucks\n",
      "                                         350.00000      98.00000       98.40000          +Inf   32680.00000 steel\n",
      "\n",
      "     6 steel        BS     258.80000       1.20000          -Inf      258.00000     -50.00000   19600.00000 min_cars\n",
      "                                            .          260.00000      258.80000          +Inf          +Inf\n",
      "\n",
      "GLPK 4.65 - SENSITIVITY ANALYSIS REPORT                                                                         Page   2\n",
      "\n",
      "Problem:    \n",
      "Objective:  OBJ = 32540 (MAXimum)\n",
      "\n",
      "   No. Column name  St      Activity      Obj coef   Lower bound       Activity      Obj coef  Obj value at Limiting\n",
      "                                          Marginal   Upper bound          range         range   break point variable\n",
      "------ ------------ -- ------------- ------------- -------------  ------------- ------------- ------------- ------------\n",
      "     1 machines_1   BS      98.00000     -50.00000        .            96.40000    -400.00000   -1760.00000 numbers_machine1\n",
      "                                            .               +Inf       98.00000          +Inf          +Inf\n",
      "\n",
      "     2 production_c BS      88.00000     300.00000        .            88.00000          -Inf          -Inf\n",
      "                                            .               +Inf       90.00000     320.00000   34300.00000 min_cars\n",
      "\n",
      "     3 production_t BS      27.60000     400.00000        .            26.00000     375.00000   31850.00000 min_cars\n",
      "                                            .               +Inf       27.60000          +Inf          +Inf\n",
      "\n",
      "End of report\n"
     ]
    }
   ],
   "source": [
    "#%cd /home\n",
    "prob.writeLP(\"VehicleManufacturing.lp\")\n",
    "!glpsol --lp VehicleManufacturing.lp --ranges \"/dev/stdout\""
   ]
  },
  {
   "cell_type": "code",
   "execution_count": 5,
   "metadata": {
    "id": "cwrxqXP3oC3D"
   },
   "outputs": [],
   "source": [
    "# model\n",
    "prob = LpProblem(\"ComputerProduction\", LpMaximize)\n",
    "\n",
    "# variables \n",
    "x = LpVariable.dicts(\"production\", ['NP', 'LP', 'NV', 'LV'], 0)\n",
    "l = LpVariable.dicts(\"labour\", [1], 0)\n",
    "\n",
    "# objective function\n",
    "prob += 600*x['NP']+1000*x['LP']+800*x['NV']+1300*x['LV']-20*l[1]\n",
    "\n",
    "# constraints\n",
    "prob += 2*x['NP']+3*x['LP']+2*x['NV']+4*x['LV']-l[1] <= 0 ,'labour'\n",
    "prob += l[1] <= 4000, 'purchased_labour'\n",
    "\n",
    "prob += x['NV'] + x['NP'] <= 800,'production_NewYork'\n",
    "prob += x['LV'] + x['LP'] <= 1000,'production_LosAngeles'\n",
    "\n",
    "prob += x['NP'] + x['LP'] <= 900,'selling_limitPC'\n",
    "prob += x['NV'] + x['LV'] <= 900,'selling_limitVAX'"
   ]
  },
  {
   "cell_type": "code",
   "execution_count": 6,
   "metadata": {
    "colab": {
     "base_uri": "https://localhost:8080/"
    },
    "id": "gEcVHtbAoC3D",
    "outputId": "3d3da9c6-7b77-49de-bcec-48b651ae8d65"
   },
   "outputs": [
    {
     "name": "stdout",
     "output_type": "stream",
     "text": [
      "/home\n",
      "GLPSOL: GLPK LP/MIP Solver, v4.65\n",
      "Parameter(s) specified in the command line:\n",
      " --lp ComputerProduction.lp --ranges /dev/stdout\n",
      "Reading problem data from 'ComputerProduction.lp'...\n",
      "6 rows, 5 columns, 14 non-zeros\n",
      "13 lines were read\n",
      "GLPK Simplex Optimizer, v4.65\n",
      "6 rows, 5 columns, 14 non-zeros\n",
      "Preprocessing...\n",
      "5 rows, 5 columns, 13 non-zeros\n",
      "Scaling...\n",
      " A: min|aij| =  1.000e+00  max|aij| =  4.000e+00  ratio =  4.000e+00\n",
      "Problem data seem to be well scaled\n",
      "Constructing initial basis...\n",
      "Size of triangular part is 5\n",
      "*     0: obj =  -0.000000000e+00 inf =   0.000e+00 (4)\n",
      "*     7: obj =   1.360000000e+06 inf =   0.000e+00 (0)\n",
      "OPTIMAL LP SOLUTION FOUND\n",
      "Time used:   0.0 secs\n",
      "Memory used: 0.0 Mb (40448 bytes)\n",
      "Write sensitivity analysis report to '/dev/stdout'...\n",
      "GLPK 4.65 - SENSITIVITY ANALYSIS REPORT                                                                         Page   1\n",
      "\n",
      "Problem:    \n",
      "Objective:  OBJ = 1360000 (MAXimum)\n",
      "\n",
      "   No. Row name     St      Activity         Slack   Lower bound       Activity      Obj coef  Obj value at Limiting\n",
      "                                          Marginal   Upper bound          range         range   break point variable\n",
      "------ ------------ -- ------------- ------------- -------------  ------------- ------------- ------------- ------------\n",
      "     1 labour       NU        .             .               -Inf    -2400.00000    -333.33333  560000.00000 production_LP\n",
      "                                         333.33333        .           300.00000          +Inf      1.46e+06 selling_limitPC\n",
      "\n",
      "     2 production_LosAngeles\n",
      "                    BS     800.00000     200.00000          -Inf      766.66667    -100.00000      1.28e+06 production_LV\n",
      "                                            .         1000.00000      900.00000     200.00000      1.52e+06 production_NewYork\n",
      "\n",
      "     3 production_NewYork\n",
      "                    NU     800.00000        .               -Inf      650.00000    -133.33333      1.34e+06 selling_limitPC\n",
      "                                         133.33333     800.00000      900.00000          +Inf   1.37333e+06 selling_limitVAX\n",
      "\n",
      "     4 purchased_labour\n",
      "                    NU    4000.00000        .               -Inf     1600.00000    -313.33333  608000.00000 production_LP\n",
      "                                         313.33333    4000.00000     4300.00000          +Inf     1.454e+06 selling_limitPC\n",
      "\n",
      "     5 selling_limitPC\n",
      "                    BS     800.00000     100.00000          -Inf      666.66667     -25.00000      1.34e+06 production_LV\n",
      "                                            .          900.00000     1000.00000     200.00000      1.52e+06 production_NewYork\n",
      "\n",
      "     6 selling_limitVAX\n",
      "                    BS     800.00000     100.00000          -Inf      650.00000    -133.33333   1.25333e+06 production_NewYork\n",
      "                                            .          900.00000     1400.00000      33.33333   1.38667e+06 production_LV\n",
      "\n",
      "GLPK 4.65 - SENSITIVITY ANALYSIS REPORT                                                                         Page   2\n",
      "\n",
      "Problem:    \n",
      "Objective:  OBJ = 1360000 (MAXimum)\n",
      "\n",
      "   No. Column name  St      Activity      Obj coef   Lower bound       Activity      Obj coef  Obj value at Limiting\n",
      "                                          Marginal   Upper bound          range         range   break point variable\n",
      "------ ------------ -- ------------- ------------- -------------  ------------- ------------- ------------- ------------\n",
      "     1 labour_1     BS    4000.00000     -20.00000        .          1600.00000    -333.33333  106666.66667 purchased_labour\n",
      "                                            .               +Inf     4000.00000          +Inf          +Inf\n",
      "\n",
      "     2 production_LP\n",
      "                    BS     800.00000    1000.00000        .           666.66667     975.00000      1.34e+06 production_LV\n",
      "                                            .               +Inf      900.00000    1200.00000      1.52e+06 production_NewYork\n",
      "\n",
      "     3 production_LV\n",
      "                    NL        .         1300.00000        .           -75.00000          -Inf    1.3625e+06 selling_limitPC\n",
      "                                         -33.33333          +Inf      100.00000    1333.33333   1.35667e+06 selling_limitVAX\n",
      "\n",
      "     4 production_NP\n",
      "                    NL        .          600.00000        .          -100.00000          -Inf      1.38e+06 selling_limitVAX\n",
      "                                        -200.00000          +Inf      100.00000     800.00000      1.34e+06 selling_limitPC\n",
      "\n",
      "     5 production_NV\n",
      "                    BS     800.00000     800.00000        .           650.00000     666.66667   1.25333e+06 production_NewYork\n",
      "                                            .               +Inf      800.00000          +Inf          +Inf\n",
      "\n",
      "End of report\n"
     ]
    }
   ],
   "source": [
    "%cd /home\n",
    "prob.writeLP(\"ComputerProduction.lp\")\n",
    "!glpsol --lp ComputerProduction.lp --ranges \"/dev/stdout\""
   ]
  }
 ],
 "metadata": {
  "colab": {
   "name": "06_SensitivityExamples.ipynb",
   "provenance": []
  },
  "kernelspec": {
   "display_name": "Python 3",
   "language": "python",
   "name": "python3"
  },
  "language_info": {
   "codemirror_mode": {
    "name": "ipython",
    "version": 3
   },
   "file_extension": ".py",
   "mimetype": "text/x-python",
   "name": "python",
   "nbconvert_exporter": "python",
   "pygments_lexer": "ipython3",
   "version": "3.8.3"
  },
  "toc": {
   "base_numbering": 1,
   "nav_menu": {},
   "number_sections": true,
   "sideBar": true,
   "skip_h1_title": false,
   "title_cell": "Table of Contents",
   "title_sidebar": "Contents",
   "toc_cell": false,
   "toc_position": {},
   "toc_section_display": true,
   "toc_window_display": false
  }
 },
 "nbformat": 4,
 "nbformat_minor": 4
}
