{
 "cells": [
  {
   "cell_type": "code",
   "execution_count": 1,
   "metadata": {},
   "outputs": [],
   "source": [
    "!pip install pulp\n",
    "from pulp import *\n",
    "import numpy as np\n",
    "import pandas as pd\n",
    "import time"
   ]
  },
  {
   "cell_type": "code",
   "execution_count": 2,
   "metadata": {},
   "outputs": [],
   "source": [
    "file = '0_100000'"
   ]
  },
  {
   "cell_type": "code",
   "execution_count": 3,
   "metadata": {},
   "outputs": [],
   "source": [
    "data = pd.read_csv('data/'+ file + '.csv')\n",
    "capacity = int(file.split('_')[1])"
   ]
  },
  {
   "cell_type": "code",
   "execution_count": 4,
   "metadata": {},
   "outputs": [
    {
     "data": {
      "text/html": [
       "<div>\n",
       "<style scoped>\n",
       "    .dataframe tbody tr th:only-of-type {\n",
       "        vertical-align: middle;\n",
       "    }\n",
       "\n",
       "    .dataframe tbody tr th {\n",
       "        vertical-align: top;\n",
       "    }\n",
       "\n",
       "    .dataframe thead th {\n",
       "        text-align: right;\n",
       "    }\n",
       "</style>\n",
       "<table border=\"1\" class=\"dataframe\">\n",
       "  <thead>\n",
       "    <tr style=\"text-align: right;\">\n",
       "      <th></th>\n",
       "      <th>key</th>\n",
       "      <th>value</th>\n",
       "      <th>weight</th>\n",
       "    </tr>\n",
       "  </thead>\n",
       "  <tbody>\n",
       "    <tr>\n",
       "      <th>0</th>\n",
       "      <td>0</td>\n",
       "      <td>90000</td>\n",
       "      <td>90001</td>\n",
       "    </tr>\n",
       "    <tr>\n",
       "      <th>1</th>\n",
       "      <td>1</td>\n",
       "      <td>89750</td>\n",
       "      <td>89751</td>\n",
       "    </tr>\n",
       "    <tr>\n",
       "      <th>2</th>\n",
       "      <td>2</td>\n",
       "      <td>10001</td>\n",
       "      <td>10002</td>\n",
       "    </tr>\n",
       "    <tr>\n",
       "      <th>3</th>\n",
       "      <td>3</td>\n",
       "      <td>89500</td>\n",
       "      <td>89501</td>\n",
       "    </tr>\n",
       "    <tr>\n",
       "      <th>4</th>\n",
       "      <td>4</td>\n",
       "      <td>10252</td>\n",
       "      <td>10254</td>\n",
       "    </tr>\n",
       "  </tbody>\n",
       "</table>\n",
       "</div>"
      ],
      "text/plain": [
       "   key  value  weight\n",
       "0    0  90000   90001\n",
       "1    1  89750   89751\n",
       "2    2  10001   10002\n",
       "3    3  89500   89501\n",
       "4    4  10252   10254"
      ]
     },
     "execution_count": 4,
     "metadata": {},
     "output_type": "execute_result"
    }
   ],
   "source": [
    "data.head()"
   ]
  },
  {
   "cell_type": "code",
   "execution_count": 5,
   "metadata": {},
   "outputs": [
    {
     "name": "stdout",
     "output_type": "stream",
     "text": [
      "100000\n"
     ]
    }
   ],
   "source": [
    "print(capacity)"
   ]
  },
  {
   "cell_type": "code",
   "execution_count": 7,
   "metadata": {},
   "outputs": [],
   "source": [
    "def knapsack_mip(items, capacity):\n",
    "    \n",
    "    start_time = time.time()\n",
    "    \n",
    "    weights = items.weight\n",
    "    values = items.value\n",
    "    items_list = items.index.tolist()\n",
    "\n",
    "    m = LpProblem(\"KnapsackProblem\", LpMaximize)\n",
    "\n",
    "    # Variables\n",
    "    x = LpVariable.dicts('x', items_list, lowBound=0, upBound=1, cat='binary')\n",
    "\n",
    "    # Objective\n",
    "    m += lpSum([values[i] * x[i] for i in items_list])\n",
    "\n",
    "    # Constraints\n",
    "    m += LpAffineExpression(list(map(tuple,(zip(x.values(), weights))))) <= capacity\n",
    "\n",
    "    m.solve(PULP_CBC_CMD(msg=False))\n",
    "    \n",
    "    taken = [var.varValue for var in m.variables()]\n",
    "    \n",
    "    duration = time.time() - start_time\n",
    "    \n",
    "    return (m.objective.value(), duration)"
   ]
  },
  {
   "cell_type": "code",
   "execution_count": 8,
   "metadata": {},
   "outputs": [],
   "source": [
    "def knapsack_heuristic(items, capacity):\n",
    "    \n",
    "    start_time = time.time()\n",
    "   \n",
    "    items['density'] = items['value'] / items['weight']\n",
    "\n",
    "    value = 0\n",
    "    weight = 0\n",
    "    taken = [0]*len(items)\n",
    "\n",
    "    if np.std(items.density) > 0.1:\n",
    "        items = items.sort_values('density', ascending=False)\n",
    "    else:\n",
    "        items = items.sort_values('weight', ascending=True)\n",
    "\n",
    "    for i, item in items.iterrows():\n",
    "        if weight + item.weight <= capacity:\n",
    "            taken[i] = 1\n",
    "            value += item.value\n",
    "            weight += item.weight\n",
    "               \n",
    "    duration = time.time() - start_time\n",
    "            \n",
    "    return (value, duration)"
   ]
  },
  {
   "cell_type": "code",
   "execution_count": 9,
   "metadata": {},
   "outputs": [
    {
     "data": {
      "text/html": [
       "<div>\n",
       "<style scoped>\n",
       "    .dataframe tbody tr th:only-of-type {\n",
       "        vertical-align: middle;\n",
       "    }\n",
       "\n",
       "    .dataframe tbody tr th {\n",
       "        vertical-align: top;\n",
       "    }\n",
       "\n",
       "    .dataframe thead th {\n",
       "        text-align: right;\n",
       "    }\n",
       "</style>\n",
       "<table border=\"1\" class=\"dataframe\">\n",
       "  <thead>\n",
       "    <tr style=\"text-align: right;\">\n",
       "      <th></th>\n",
       "      <th>Heuristik</th>\n",
       "      <th>MIP</th>\n",
       "    </tr>\n",
       "  </thead>\n",
       "  <tbody>\n",
       "    <tr>\n",
       "      <th>0</th>\n",
       "      <td>99045.000000</td>\n",
       "      <td>99998.888642</td>\n",
       "    </tr>\n",
       "    <tr>\n",
       "      <th>1</th>\n",
       "      <td>0.008618</td>\n",
       "      <td>0.026907</td>\n",
       "    </tr>\n",
       "  </tbody>\n",
       "</table>\n",
       "</div>"
      ],
      "text/plain": [
       "      Heuristik           MIP\n",
       "0  99045.000000  99998.888642\n",
       "1      0.008618      0.026907"
      ]
     },
     "execution_count": 9,
     "metadata": {},
     "output_type": "execute_result"
    }
   ],
   "source": [
    "results = {}\n",
    "results['Heuristik'] = knapsack_heuristic(data, capacity)\n",
    "results['MIP'] = knapsack_mip(data, capacity)\n",
    "pd.DataFrame(results)"
   ]
  },
  {
   "cell_type": "code",
   "execution_count": 10,
   "metadata": {},
   "outputs": [],
   "source": [
    "percent = 0.9\n",
    "items = data.sort_values('value', ascending=False).iloc[:int(len(data)*percent)]"
   ]
  },
  {
   "cell_type": "code",
   "execution_count": 11,
   "metadata": {},
   "outputs": [
    {
     "data": {
      "text/html": [
       "<div>\n",
       "<style scoped>\n",
       "    .dataframe tbody tr th:only-of-type {\n",
       "        vertical-align: middle;\n",
       "    }\n",
       "\n",
       "    .dataframe tbody tr th {\n",
       "        vertical-align: top;\n",
       "    }\n",
       "\n",
       "    .dataframe thead th {\n",
       "        text-align: right;\n",
       "    }\n",
       "</style>\n",
       "<table border=\"1\" class=\"dataframe\">\n",
       "  <thead>\n",
       "    <tr style=\"text-align: right;\">\n",
       "      <th></th>\n",
       "      <th>Heuristik</th>\n",
       "      <th>MIP</th>\n",
       "    </tr>\n",
       "  </thead>\n",
       "  <tbody>\n",
       "    <tr>\n",
       "      <th>0</th>\n",
       "      <td>99084.000000</td>\n",
       "      <td>99998.888642</td>\n",
       "    </tr>\n",
       "    <tr>\n",
       "      <th>1</th>\n",
       "      <td>0.008598</td>\n",
       "      <td>0.026392</td>\n",
       "    </tr>\n",
       "  </tbody>\n",
       "</table>\n",
       "</div>"
      ],
      "text/plain": [
       "      Heuristik           MIP\n",
       "0  99084.000000  99998.888642\n",
       "1      0.008598      0.026392"
      ]
     },
     "execution_count": 11,
     "metadata": {},
     "output_type": "execute_result"
    }
   ],
   "source": [
    "results = {}\n",
    "results['Heuristik'] = knapsack_heuristic(items, capacity)\n",
    "results['MIP'] = knapsack_mip(items, capacity)\n",
    "pd.DataFrame(results)"
   ]
  },
  {
   "cell_type": "code",
   "execution_count": null,
   "metadata": {},
   "outputs": [],
   "source": []
  }
 ],
 "metadata": {
  "kernelspec": {
   "display_name": "Python 3 (ipykernel)",
   "language": "python",
   "name": "python3"
  },
  "language_info": {
   "codemirror_mode": {
    "name": "ipython",
    "version": 3
   },
   "file_extension": ".py",
   "mimetype": "text/x-python",
   "name": "python",
   "nbconvert_exporter": "python",
   "pygments_lexer": "ipython3",
   "version": "3.8.12"
  }
 },
 "nbformat": 4,
 "nbformat_minor": 4
}
