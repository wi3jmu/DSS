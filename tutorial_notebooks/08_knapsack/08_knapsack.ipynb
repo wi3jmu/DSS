{
 "cells": [
  {
   "cell_type": "code",
   "execution_count": 1,
   "metadata": {},
   "outputs": [],
   "source": [
    "!pip install pulp\n",
    "from pulp import *\n",
    "import numpy as np\n",
    "import pandas as pd\n",
    "import time"
   ]
  },
  {
   "cell_type": "markdown",
   "metadata": {},
   "source": [
    "available item files:\n",
    "\n",
    "https://github.com/wi3jmu/DSS/tree/main/tutorial_notebooks/08_knapsack/data"
   ]
  },
  {
   "cell_type": "code",
   "execution_count": 2,
   "metadata": {},
   "outputs": [],
   "source": [
    "file = '14_31181'"
   ]
  },
  {
   "cell_type": "code",
   "execution_count": 3,
   "metadata": {},
   "outputs": [],
   "source": [
    "data = pd.read_csv('https://raw.githubusercontent.com/wi3jmu/DSS/main/tutorial_notebooks/08_knapsack/data/'+ file + '.csv')\n",
    "capacity = int(file.split('_')[1])"
   ]
  },
  {
   "cell_type": "code",
   "execution_count": 4,
   "metadata": {},
   "outputs": [
    {
     "data": {
      "text/html": [
       "<div>\n",
       "<style scoped>\n",
       "    .dataframe tbody tr th:only-of-type {\n",
       "        vertical-align: middle;\n",
       "    }\n",
       "\n",
       "    .dataframe tbody tr th {\n",
       "        vertical-align: top;\n",
       "    }\n",
       "\n",
       "    .dataframe thead th {\n",
       "        text-align: right;\n",
       "    }\n",
       "</style>\n",
       "<table border=\"1\" class=\"dataframe\">\n",
       "  <thead>\n",
       "    <tr style=\"text-align: right;\">\n",
       "      <th></th>\n",
       "      <th>key</th>\n",
       "      <th>value</th>\n",
       "      <th>weight</th>\n",
       "    </tr>\n",
       "  </thead>\n",
       "  <tbody>\n",
       "    <tr>\n",
       "      <th>0</th>\n",
       "      <td>0</td>\n",
       "      <td>1945</td>\n",
       "      <td>4990</td>\n",
       "    </tr>\n",
       "    <tr>\n",
       "      <th>1</th>\n",
       "      <td>1</td>\n",
       "      <td>321</td>\n",
       "      <td>1142</td>\n",
       "    </tr>\n",
       "    <tr>\n",
       "      <th>2</th>\n",
       "      <td>2</td>\n",
       "      <td>2945</td>\n",
       "      <td>7390</td>\n",
       "    </tr>\n",
       "    <tr>\n",
       "      <th>3</th>\n",
       "      <td>3</td>\n",
       "      <td>4136</td>\n",
       "      <td>10372</td>\n",
       "    </tr>\n",
       "    <tr>\n",
       "      <th>4</th>\n",
       "      <td>4</td>\n",
       "      <td>1107</td>\n",
       "      <td>3114</td>\n",
       "    </tr>\n",
       "  </tbody>\n",
       "</table>\n",
       "</div>"
      ],
      "text/plain": [
       "   key  value  weight\n",
       "0    0   1945    4990\n",
       "1    1    321    1142\n",
       "2    2   2945    7390\n",
       "3    3   4136   10372\n",
       "4    4   1107    3114"
      ]
     },
     "execution_count": 4,
     "metadata": {},
     "output_type": "execute_result"
    }
   ],
   "source": [
    "data.head()"
   ]
  },
  {
   "cell_type": "code",
   "execution_count": 5,
   "metadata": {},
   "outputs": [
    {
     "name": "stdout",
     "output_type": "stream",
     "text": [
      "31181\n"
     ]
    }
   ],
   "source": [
    "print(capacity)"
   ]
  },
  {
   "cell_type": "code",
   "execution_count": 6,
   "metadata": {},
   "outputs": [],
   "source": [
    "def knapsack_mip(items, capacity):\n",
    "    \n",
    "    start_time = time.time()\n",
    "    \n",
    "    weights = items.weight\n",
    "    values = items.value\n",
    "    items_list = items.index.tolist()\n",
    "\n",
    "    m = LpProblem(\"KnapsackProblem\", LpMaximize)\n",
    "\n",
    "    # Variables\n",
    "    x = LpVariable.dicts('x', items_list, lowBound=0, upBound=1, cat='binary')\n",
    "\n",
    "    # Objective\n",
    "    m += lpSum([values[i] * x[i] for i in items_list])\n",
    "\n",
    "    # Constraints\n",
    "    m += LpAffineExpression(list(map(tuple,(zip(x.values(), weights))))) <= capacity\n",
    "\n",
    "    m.solve(PULP_CBC_CMD(msg=False))\n",
    "    \n",
    "    taken = [var.varValue for var in m.variables()]\n",
    "    \n",
    "    duration = time.time() - start_time\n",
    "    \n",
    "    return (m.objective.value(), duration)"
   ]
  },
  {
   "cell_type": "code",
   "execution_count": 7,
   "metadata": {},
   "outputs": [],
   "source": [
    "def knapsack_heuristic(items, capacity):\n",
    "    \n",
    "    start_time = time.time()\n",
    "   \n",
    "    items['density'] = items['value'] / items['weight']\n",
    "\n",
    "    value = 0\n",
    "    weight = 0\n",
    "    taken = [0]*len(items)\n",
    "\n",
    "    items = items.sort_values('density', ascending=False)\n",
    "\n",
    "    for i, item in items.iterrows():\n",
    "        if weight + item.weight <= capacity:\n",
    "            taken[i] = 1\n",
    "            value += item.value\n",
    "            weight += item.weight\n",
    "               \n",
    "    duration = time.time() - start_time\n",
    "            \n",
    "    return (value, duration)"
   ]
  },
  {
   "cell_type": "code",
   "execution_count": 8,
   "metadata": {},
   "outputs": [
    {
     "data": {
      "text/html": [
       "<div>\n",
       "<style scoped>\n",
       "    .dataframe tbody tr th:only-of-type {\n",
       "        vertical-align: middle;\n",
       "    }\n",
       "\n",
       "    .dataframe tbody tr th {\n",
       "        vertical-align: top;\n",
       "    }\n",
       "\n",
       "    .dataframe thead th {\n",
       "        text-align: right;\n",
       "    }\n",
       "</style>\n",
       "<table border=\"1\" class=\"dataframe\">\n",
       "  <thead>\n",
       "    <tr style=\"text-align: right;\">\n",
       "      <th></th>\n",
       "      <th>Heuristik</th>\n",
       "      <th>MIP</th>\n",
       "    </tr>\n",
       "  </thead>\n",
       "  <tbody>\n",
       "    <tr>\n",
       "      <th>0</th>\n",
       "      <td>11981.000000</td>\n",
       "      <td>12901.542114</td>\n",
       "    </tr>\n",
       "    <tr>\n",
       "      <th>1</th>\n",
       "      <td>0.007816</td>\n",
       "      <td>0.077575</td>\n",
       "    </tr>\n",
       "  </tbody>\n",
       "</table>\n",
       "</div>"
      ],
      "text/plain": [
       "      Heuristik           MIP\n",
       "0  11981.000000  12901.542114\n",
       "1      0.007816      0.077575"
      ]
     },
     "execution_count": 8,
     "metadata": {},
     "output_type": "execute_result"
    }
   ],
   "source": [
    "results = {}\n",
    "results['Heuristik'] = knapsack_heuristic(data, capacity)\n",
    "results['MIP'] = knapsack_mip(data, capacity)\n",
    "pd.DataFrame(results)"
   ]
  },
  {
   "cell_type": "code",
   "execution_count": 9,
   "metadata": {},
   "outputs": [],
   "source": [
    "percent = 0.9\n",
    "items = data.sort_values('value', ascending=False).iloc[:int(len(data)*percent)]"
   ]
  },
  {
   "cell_type": "code",
   "execution_count": 10,
   "metadata": {},
   "outputs": [
    {
     "data": {
      "text/html": [
       "<div>\n",
       "<style scoped>\n",
       "    .dataframe tbody tr th:only-of-type {\n",
       "        vertical-align: middle;\n",
       "    }\n",
       "\n",
       "    .dataframe tbody tr th {\n",
       "        vertical-align: top;\n",
       "    }\n",
       "\n",
       "    .dataframe thead th {\n",
       "        text-align: right;\n",
       "    }\n",
       "</style>\n",
       "<table border=\"1\" class=\"dataframe\">\n",
       "  <thead>\n",
       "    <tr style=\"text-align: right;\">\n",
       "      <th></th>\n",
       "      <th>Heuristik</th>\n",
       "      <th>MIP</th>\n",
       "    </tr>\n",
       "  </thead>\n",
       "  <tbody>\n",
       "    <tr>\n",
       "      <th>0</th>\n",
       "      <td>11981.000000</td>\n",
       "      <td>12901.542114</td>\n",
       "    </tr>\n",
       "    <tr>\n",
       "      <th>1</th>\n",
       "      <td>0.003135</td>\n",
       "      <td>0.022863</td>\n",
       "    </tr>\n",
       "  </tbody>\n",
       "</table>\n",
       "</div>"
      ],
      "text/plain": [
       "      Heuristik           MIP\n",
       "0  11981.000000  12901.542114\n",
       "1      0.003135      0.022863"
      ]
     },
     "execution_count": 10,
     "metadata": {},
     "output_type": "execute_result"
    }
   ],
   "source": [
    "results = {}\n",
    "results['Heuristik'] = knapsack_heuristic(items, capacity)\n",
    "results['MIP'] = knapsack_mip(items, capacity)\n",
    "pd.DataFrame(results)"
   ]
  }
 ],
 "metadata": {
  "kernelspec": {
   "display_name": "Python 3 (ipykernel)",
   "language": "python",
   "name": "python3"
  },
  "language_info": {
   "codemirror_mode": {
    "name": "ipython",
    "version": 3
   },
   "file_extension": ".py",
   "mimetype": "text/x-python",
   "name": "python",
   "nbconvert_exporter": "python",
   "pygments_lexer": "ipython3",
   "version": "3.8.12"
  }
 },
 "nbformat": 4,
 "nbformat_minor": 4
}
