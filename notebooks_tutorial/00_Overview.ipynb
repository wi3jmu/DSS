{
 "cells": [
  {
   "cell_type": "markdown",
   "metadata": {
    "cell_style": "center",
    "slideshow": {
     "slide_type": "slide"
    }
   },
   "source": [
    "<div class='bar_title'></div>\n",
    "\n",
    "*Decision Support Systems*\n",
    "\n",
    "# Introduction\n",
    "\n",
    "Toni Greif<br>\n",
    "Chair of Information Systems and Management\n",
    "\n",
    "Winter Semester 20/21"
   ]
  },
  {
   "cell_type": "markdown",
   "metadata": {
    "slideshow": {
     "slide_type": "subslide"
    },
    "toc": true
   },
   "source": [
    "<h1>Table of Contents<span class=\"tocSkip\"></span></h1>\n",
    "<div class=\"toc\"><ul class=\"toc-item\"><li><span><a href=\"#Organization\" data-toc-modified-id=\"Organization-1\"><span class=\"toc-item-num\">1&nbsp;&nbsp;</span>Organization</a></span></li><li><span><a href=\"#Bonus\" data-toc-modified-id=\"Bonus-2\"><span class=\"toc-item-num\">2&nbsp;&nbsp;</span>Bonus</a></span></li><li><span><a href=\"#Decision-Support-Systems\" data-toc-modified-id=\"Decision-Support-Systems-3\"><span class=\"toc-item-num\">3&nbsp;&nbsp;</span>Decision Support Systems</a></span><ul class=\"toc-item\"><li><span><a href=\"#Solving-mathematical-programs-with-computers\" data-toc-modified-id=\"Solving-mathematical-programs-with-computers-3.1\"><span class=\"toc-item-num\">3.1&nbsp;&nbsp;</span>Solving mathematical programs with computers</a></span></li></ul></li><li><span><a href=\"#Software\" data-toc-modified-id=\"Software-4\"><span class=\"toc-item-num\">4&nbsp;&nbsp;</span>Software</a></span><ul class=\"toc-item\"><li><span><a href=\"#Jupyter-Notebooks\" data-toc-modified-id=\"Jupyter-Notebooks-4.1\"><span class=\"toc-item-num\">4.1&nbsp;&nbsp;</span>Jupyter Notebooks</a></span></li><li><span><a href=\"#Colab\" data-toc-modified-id=\"Colab-4.2\"><span class=\"toc-item-num\">4.2&nbsp;&nbsp;</span>Colab</a></span></li><li><span><a href=\"#Python-and-PuLP\" data-toc-modified-id=\"Python-and-PuLP-4.3\"><span class=\"toc-item-num\">4.3&nbsp;&nbsp;</span>Python and PuLP</a></span></li></ul></li><li><span><a href=\"#Examples-and-Material\" data-toc-modified-id=\"Examples-and-Material-5\"><span class=\"toc-item-num\">5&nbsp;&nbsp;</span>Examples and Material</a></span></li></ul></div>"
   ]
  },
  {
   "cell_type": "markdown",
   "metadata": {
    "slideshow": {
     "slide_type": "slide"
    }
   },
   "source": [
    "## Organization"
   ]
  },
  {
   "cell_type": "markdown",
   "metadata": {
    "slideshow": {
     "slide_type": "-"
    }
   },
   "source": [
    "**Lecture:**\n",
    "   - Wednesday 12:15 – 13:45, Zoom\n",
    "\n",
    "**Tutorial:**\n",
    "   - Thursday 12:15 – 13:45, Zoom\n",
    "    \n",
    "Two types of tutorials:\n",
    "- *Regular:* Discussion of example questions and sample exam questions\n",
    "- *Computer sessions:* Implementation of sample problems in Python"
   ]
  },
  {
   "cell_type": "markdown",
   "metadata": {
    "slideshow": {
     "slide_type": "slide"
    }
   },
   "source": [
    "## Bonus"
   ]
  },
  {
   "cell_type": "markdown",
   "metadata": {
    "slideshow": {
     "slide_type": "-"
    }
   },
   "source": [
    "The exam bonus can be obtained by successfully completing one programming task and presenting them at the beginning of the tutorial."
   ]
  },
  {
   "cell_type": "markdown",
   "metadata": {
    "cell_style": "split",
    "slideshow": {
     "slide_type": "-"
    }
   },
   "source": [
    "Registration:\n",
    "- Presentations will be in groups with at most 4 students\n",
    "- You must sign up for a bonus group in WueCampus (choose session 1, session 2 or any session).\n",
    "- Access Code: DSS1920\n",
    "- After the registration deadline (23.10.2019 16:00), we will randomly allocate the weekly presentations"
   ]
  },
  {
   "cell_type": "markdown",
   "metadata": {
    "cell_style": "split"
   },
   "source": [
    "Presentations:\n",
    "- Groups need to present problem setting, data situation as well as solution and implementation\n",
    "- Focus on the important facts, the presentation should take about 10-15 minutes\n",
    "- 0.3 bonus on the final grade"
   ]
  },
  {
   "cell_type": "markdown",
   "metadata": {
    "cell_style": "center",
    "slideshow": {
     "slide_type": "slide"
    }
   },
   "source": [
    "## Decision Support Systems"
   ]
  },
  {
   "cell_type": "markdown",
   "metadata": {},
   "source": [
    "- Organize the data, then build the model around the data\n",
    "- Separate data and model\n",
    "- Provide meaningful output to signify to the user what is going on\n",
    "- Document your model using comments and manual files"
   ]
  },
  {
   "cell_type": "markdown",
   "metadata": {
    "slideshow": {
     "slide_type": "fragment"
    }
   },
   "source": [
    "### Solving mathematical programs with computers"
   ]
  },
  {
   "cell_type": "markdown",
   "metadata": {},
   "source": [
    "- Solving LP problems graphically is only possible when there are two decision variables\n",
    "- Few real-world LP have only two decision variables\n",
    "- Fortunately, we can use software to solve LP problems\n",
    "- Solvers apply state-of-the-art algorithms to find solutions for different problem classes\n",
    "- We can focus on the problem modelling while the computer takes care of the problem solving"
   ]
  },
  {
   "cell_type": "markdown",
   "metadata": {
    "slideshow": {
     "slide_type": "slide"
    }
   },
   "source": [
    "## Software"
   ]
  },
  {
   "cell_type": "markdown",
   "metadata": {
    "slideshow": {
     "slide_type": "fragment"
    }
   },
   "source": [
    "### Jupyter Notebooks"
   ]
  },
  {
   "cell_type": "markdown",
   "metadata": {},
   "source": [
    "<img src=\"https://github.com/matjesg/AIS_2019/raw/master/notebooks/images/01/jupyter_nature.png\" style=\"width:20%; float:right\">\n",
    "\n",
    "Project Jupyter exists to develop open-source software, open-standards, and services for interactive computing across dozens of programming languages (https://jupyter.org/).\n",
    "\n",
    "Perkel, J. M. (2018). __Why Jupyter is data scientists' computational notebook of choice__. Nature, 563(7729), 145.\n",
    "[Link](https://www.nature.com/articles/d41586-018-07196-1)"
   ]
  },
  {
   "cell_type": "markdown",
   "metadata": {},
   "source": [
    "<img src=\"https://upload.wikimedia.org/wikipedia/commons/thumb/3/38/Jupyter_logo.svg/250px-Jupyter_logo.svg.png\" style=\"width:15%; float:right\">\n",
    "\n",
    "The Jupyter Notebook is an **interactive computing environment** that enables users to author notebook documents that include:\n",
    "\n",
    "*Live code, Interactive widgets, Plots, Narrative text, Equations, Images, Video*\n",
    "\n",
    "These documents provide a **complete and self-contained record of a computation** that can be converted to various formats and shared with others.\n",
    "\n",
    "**We will provide all our exercises in Jupyter notebooks and PDF-files!**"
   ]
  },
  {
   "cell_type": "markdown",
   "metadata": {
    "slideshow": {
     "slide_type": "subslide"
    }
   },
   "source": [
    "### Colab\n",
    "\n",
    "<img src=\"https://colab.research.google.com/img/colab_favicon.ico\" style=\"width:20%; float:right\">\n",
    "\n",
    "[Colaboratory](https://colab.research.google.com/) is a free Jupyter notebook environment that requires no setup and runs entirely in the cloud.\n",
    "\n",
    "With Colaboratory you can \n",
    "- write and execute code, \n",
    "- save and share your analyses, and \n",
    "- access powerful computing resources (GPU and TPU), \n",
    "\n",
    "all for free from your browser. [More information](https://colab.research.google.com/notebooks/welcome.ipynb)\n",
    "\n",
    "It is up to you in which environment you work with the provided Jupyter notebooks. For all of you with no further experience **we recommend to use Colab at the beginning**. We will include **all notebooks as Colab links in WueCampus**.\n",
    "\n",
    "(Furthermore you can find all notebooks in the [DSS 19/20 Github repository](https://github.com/wi3jmu/DSS1920) for this course)\n"
   ]
  },
  {
   "cell_type": "markdown",
   "metadata": {
    "slideshow": {
     "slide_type": "subslide"
    }
   },
   "source": [
    "### Python and PuLP"
   ]
  },
  {
   "cell_type": "markdown",
   "metadata": {
    "slideshow": {
     "slide_type": "-"
    }
   },
   "source": [
    "While there are several great languages for data analysis (such as R, Julia, Scala, ...) we decided to use *Python* for this class because of the following reasons:\n",
    "- Very simple syntax\n",
    "- Simple enough for things to happen quickly and powerful enough to allow the implementation of the most complex ideas\n",
    "- Good visualization capabilities (but not as great as R)\n",
    "\n",
    "*PuLP* is a library for Python that enables users to describe mathematical programs, avoiding special syntax and keywords wherever possible. To keep the syntax as simple and intuitive as possible, PuLP has focused on supporting linear and mixed-integer models."
   ]
  },
  {
   "cell_type": "markdown",
   "metadata": {
    "slideshow": {
     "slide_type": "slide"
    }
   },
   "source": [
    "## Examples and Material"
   ]
  },
  {
   "cell_type": "markdown",
   "metadata": {},
   "source": [
    "In the next tutorials we will learn how to use the Jupyter notebooks step by step. As additional material we provide a short [Introduction to Jupyter Notebooks](https://colab.research.google.com/github/wi3jmu/DSS1920/blob/master/Notebooks_Tutorial/00_Jupyter_Introduction.ipynb) running in Colab."
   ]
  },
  {
   "cell_type": "markdown",
   "metadata": {},
   "source": [
    "Let's start with our first example notebook [00_PuLP_Introduction](https://colab.research.google.com/github/wi3jmu/DSS1920/blob/master/Notebooks_Tutorial/00_PuLP_Introduction.ipynb)."
   ]
  }
 ],
 "metadata": {
  "celltoolbar": "Slideshow",
  "kernelspec": {
   "display_name": "Python 3",
   "language": "python",
   "name": "python3"
  },
  "language_info": {
   "codemirror_mode": {
    "name": "ipython",
    "version": 3
   },
   "file_extension": ".py",
   "mimetype": "text/x-python",
   "name": "python",
   "nbconvert_exporter": "python",
   "pygments_lexer": "ipython3",
   "version": "3.7.1"
  },
  "rise": {
   "enable_chalkboard": false,
   "overlay": "<div class='background'></div><div class='header'>WS 19/20</br>DSS</div><div class='logo'><img src='images/unilogo.png'></div><div class='bar'></div>",
   "scroll": true,
   "slideNumber": "h.v"
  },
  "toc": {
   "base_numbering": 1,
   "nav_menu": {},
   "number_sections": true,
   "sideBar": true,
   "skip_h1_title": true,
   "title_cell": "Table of Contents",
   "title_sidebar": "Contents",
   "toc_cell": true,
   "toc_position": {},
   "toc_section_display": true,
   "toc_window_display": false
  }
 },
 "nbformat": 4,
 "nbformat_minor": 2
}
