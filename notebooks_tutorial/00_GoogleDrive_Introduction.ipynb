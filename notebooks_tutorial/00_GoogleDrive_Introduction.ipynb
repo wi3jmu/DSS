{
 "cells": [
  {
   "cell_type": "markdown",
   "metadata": {
    "slideshow": {
     "slide_type": "slide"
    }
   },
   "source": [
    "<div class='bar_title'></div>\n",
    "\n",
    "*Decision Support Systems*\n",
    "\n",
    "# Google Drive  and Colab\n",
    "\n",
    "Toni Greif<br>\n",
    "Chair of Information Systems and Management\n",
    "\n",
    "Winter Semester 19/20"
   ]
  },
  {
   "cell_type": "markdown",
   "metadata": {
    "slideshow": {
     "slide_type": "slide"
    }
   },
   "source": [
    "## Using Drive to save Colab notebooks\n",
    "\n",
    "The simplest way to save your modified notebooks is to **copy the notebook to your Google Drive before editing**.\n",
    "Make sure you are logged in with your Google account (you can check in the upper right corner).\n",
    "\n",
    "When you choose *File → Save* or *Save a opy in Drive* or , the content you create goes to the root directory of your Google Drive. If you want to save the content to a different folder, you need to select that folder in Google Drive.\n",
    "\n",
    "\n",
    "<img src=\"images/GoogleDrive.png\" style=\"width:70%\"/>"
   ]
  },
  {
   "cell_type": "markdown",
   "metadata": {
    "slideshow": {
     "slide_type": "slide"
    }
   },
   "source": [
    "## Open your  notebooks in Colab\n",
    "\n",
    "### Option 1\n",
    "\n",
    "You can run your notebook from your Google Drive\n",
    "\n",
    "<img src=\"images/GoogleDrive_open1.png\" style=\"width:90%\"/>"
   ]
  },
  {
   "cell_type": "markdown",
   "metadata": {
    "slideshow": {
     "slide_type": "slide"
    }
   },
   "source": [
    "### Option 2\n",
    "\n",
    "You can run your notebook directly from Colab\n",
    "\n",
    "<img src=\"images/GoogleDrive_open2.1.png\" style=\"width:50%\"/>\n",
    "\n",
    "<img src=\"images/GoogleDrive_open2.2.png\" style=\"width:90%\"/>"
   ]
  }
 ],
 "metadata": {
  "celltoolbar": "Slideshow",
  "kernelspec": {
   "display_name": "Python 3",
   "language": "python",
   "name": "python3"
  },
  "language_info": {
   "codemirror_mode": {
    "name": "ipython",
    "version": 3
   },
   "file_extension": ".py",
   "mimetype": "text/x-python",
   "name": "python",
   "nbconvert_exporter": "python",
   "pygments_lexer": "ipython3",
   "version": "3.7.1"
  },
  "rise": {
   "enable_chalkboard": false,
   "overlay": "<div class='background'></div><div class='header'>WS 19/20</br>DSS</div><div class='logo'><img src='images/unilogo.png'></div><div class='bar'></div>",
   "scroll": true,
   "slideNumber": "h.v"
  },
  "toc": {
   "base_numbering": 1,
   "nav_menu": {},
   "number_sections": true,
   "sideBar": true,
   "skip_h1_title": true,
   "title_cell": "Table of Contents",
   "title_sidebar": "Contents",
   "toc_cell": true,
   "toc_position": {},
   "toc_section_display": true,
   "toc_window_display": false
  }
 },
 "nbformat": 4,
 "nbformat_minor": 2
}
